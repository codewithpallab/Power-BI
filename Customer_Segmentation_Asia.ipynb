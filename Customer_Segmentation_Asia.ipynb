{
 "cells": [
  {
   "cell_type": "code",
   "execution_count": 1,
   "metadata": {
    "id": "PGvPDrFRFryZ"
   },
   "outputs": [
    {
     "name": "stdout",
     "output_type": "stream",
     "text": [
      "Requirement already satisfied: dataprep in d:\\anaconda\\lib\\site-packages (0.4.5)\n",
      "Requirement already satisfied: metaphone<0.7,>=0.6 in d:\\anaconda\\lib\\site-packages (from dataprep) (0.6)\n",
      "Requirement already satisfied: varname<0.9.0,>=0.8.1 in d:\\anaconda\\lib\\site-packages (from dataprep) (0.8.3)\n",
      "Requirement already satisfied: scipy<2.0,>=1.8 in d:\\anaconda\\lib\\site-packages (from dataprep) (1.11.1)\n",
      "Requirement already satisfied: jsonpath-ng<2.0,>=1.5 in d:\\anaconda\\lib\\site-packages (from dataprep) (1.5.3)\n",
      "Requirement already satisfied: flask<3,>=2 in d:\\anaconda\\lib\\site-packages (from dataprep) (2.2.5)\n",
      "Requirement already satisfied: aiohttp<4.0,>=3.6 in d:\\anaconda\\lib\\site-packages (from dataprep) (3.8.1)\n",
      "Requirement already satisfied: pandas<2.0,>=1.1 in d:\\anaconda\\lib\\site-packages (from dataprep) (1.3.5)\n",
      "Requirement already satisfied: nltk<4.0.0,>=3.6.7 in d:\\anaconda\\lib\\site-packages (from dataprep) (3.7)\n",
      "Requirement already satisfied: python-stdnum<2.0,>=1.16 in d:\\anaconda\\lib\\site-packages (from dataprep) (1.18)\n",
      "Requirement already satisfied: regex<2022.0.0,>=2021.8.3 in d:\\anaconda\\lib\\site-packages (from dataprep) (2021.11.10)\n",
      "Requirement already satisfied: wordcloud<2.0,>=1.8 in d:\\anaconda\\lib\\site-packages (from dataprep) (1.9.2)\n",
      "Requirement already satisfied: numpy<2.0,>=1.21 in d:\\anaconda\\lib\\site-packages (from dataprep) (1.22.4)\n",
      "Requirement already satisfied: tqdm<5.0,>=4.48 in d:\\anaconda\\lib\\site-packages (from dataprep) (4.64.0)\n",
      "Requirement already satisfied: jinja2<3.1,>=3.0 in d:\\anaconda\\lib\\site-packages (from dataprep) (3.0.3)\n",
      "Requirement already satisfied: ipywidgets<8.0,>=7.5 in d:\\anaconda\\lib\\site-packages (from dataprep) (7.6.5)\n",
      "Requirement already satisfied: rapidfuzz<3.0.0,>=2.1.2 in d:\\anaconda\\lib\\site-packages (from dataprep) (2.15.1)\n",
      "Requirement already satisfied: python-crfsuite==0.9.8 in d:\\anaconda\\lib\\site-packages (from dataprep) (0.9.8)\n",
      "Requirement already satisfied: sqlalchemy==1.3.24 in d:\\anaconda\\lib\\site-packages (from dataprep) (1.3.24)\n",
      "Requirement already satisfied: bokeh<3,>=2 in d:\\anaconda\\lib\\site-packages (from dataprep) (2.4.2)\n",
      "Requirement already satisfied: pydot<2.0.0,>=1.4.2 in d:\\anaconda\\lib\\site-packages (from dataprep) (1.4.2)\n",
      "Requirement already satisfied: flask_cors<4.0.0,>=3.0.10 in d:\\anaconda\\lib\\site-packages (from dataprep) (3.0.10)\n",
      "Requirement already satisfied: pydantic<2.0,>=1.6 in d:\\anaconda\\lib\\site-packages (from dataprep) (1.10.12)\n",
      "Requirement already satisfied: dask[array,dataframe,delayed]>=2022.3.0 in d:\\anaconda\\lib\\site-packages (from dataprep) (2023.8.0)\n",
      "Requirement already satisfied: yarl<2.0,>=1.0 in d:\\anaconda\\lib\\site-packages (from aiohttp<4.0,>=3.6->dataprep) (1.6.3)\n",
      "Requirement already satisfied: charset-normalizer<3.0,>=2.0 in d:\\anaconda\\lib\\site-packages (from aiohttp<4.0,>=3.6->dataprep) (2.0.4)\n",
      "Requirement already satisfied: multidict<7.0,>=4.5 in d:\\anaconda\\lib\\site-packages (from aiohttp<4.0,>=3.6->dataprep) (5.1.0)\n",
      "Requirement already satisfied: attrs>=17.3.0 in d:\\anaconda\\lib\\site-packages (from aiohttp<4.0,>=3.6->dataprep) (21.4.0)\n",
      "Requirement already satisfied: aiosignal>=1.1.2 in d:\\anaconda\\lib\\site-packages (from aiohttp<4.0,>=3.6->dataprep) (1.2.0)\n",
      "Requirement already satisfied: frozenlist>=1.1.1 in d:\\anaconda\\lib\\site-packages (from aiohttp<4.0,>=3.6->dataprep) (1.2.0)\n",
      "Requirement already satisfied: async-timeout<5.0,>=4.0.0a3 in d:\\anaconda\\lib\\site-packages (from aiohttp<4.0,>=3.6->dataprep) (4.0.1)\n",
      "Requirement already satisfied: typing-extensions>=3.6.5 in d:\\anaconda\\lib\\site-packages (from async-timeout<5.0,>=4.0.0a3->aiohttp<4.0,>=3.6->dataprep) (4.7.1)\n",
      "Requirement already satisfied: tornado>=5.1 in d:\\anaconda\\lib\\site-packages (from bokeh<3,>=2->dataprep) (6.1)\n",
      "Requirement already satisfied: pillow>=7.1.0 in d:\\anaconda\\lib\\site-packages (from bokeh<3,>=2->dataprep) (9.0.1)\n",
      "Requirement already satisfied: packaging>=16.8 in d:\\anaconda\\lib\\site-packages (from bokeh<3,>=2->dataprep) (21.3)\n",
      "Requirement already satisfied: PyYAML>=3.10 in d:\\anaconda\\lib\\site-packages (from bokeh<3,>=2->dataprep) (6.0)\n",
      "Requirement already satisfied: cloudpickle>=1.5.0 in d:\\anaconda\\lib\\site-packages (from dask[array,dataframe,delayed]>=2022.3.0->dataprep) (2.0.0)\n",
      "Requirement already satisfied: fsspec>=2021.09.0 in d:\\anaconda\\lib\\site-packages (from dask[array,dataframe,delayed]>=2022.3.0->dataprep) (2022.2.0)\n",
      "Requirement already satisfied: toolz>=0.10.0 in d:\\anaconda\\lib\\site-packages (from dask[array,dataframe,delayed]>=2022.3.0->dataprep) (0.11.2)\n",
      "Requirement already satisfied: click>=8.0 in d:\\anaconda\\lib\\site-packages (from dask[array,dataframe,delayed]>=2022.3.0->dataprep) (8.0.4)\n",
      "Requirement already satisfied: importlib-metadata>=4.13.0 in d:\\anaconda\\lib\\site-packages (from dask[array,dataframe,delayed]>=2022.3.0->dataprep) (6.8.0)\n",
      "Requirement already satisfied: partd>=1.2.0 in d:\\anaconda\\lib\\site-packages (from dask[array,dataframe,delayed]>=2022.3.0->dataprep) (1.2.0)\n",
      "Requirement already satisfied: colorama in d:\\anaconda\\lib\\site-packages (from click>=8.0->dask[array,dataframe,delayed]>=2022.3.0->dataprep) (0.4.4)\n",
      "Requirement already satisfied: Werkzeug>=2.2.2 in d:\\anaconda\\lib\\site-packages (from flask<3,>=2->dataprep) (2.3.6)\n",
      "Requirement already satisfied: itsdangerous>=2.0 in d:\\anaconda\\lib\\site-packages (from flask<3,>=2->dataprep) (2.0.1)\n",
      "Requirement already satisfied: Six in d:\\anaconda\\lib\\site-packages (from flask_cors<4.0.0,>=3.0.10->dataprep) (1.16.0)\n",
      "Requirement already satisfied: zipp>=0.5 in d:\\anaconda\\lib\\site-packages (from importlib-metadata>=4.13.0->dask[array,dataframe,delayed]>=2022.3.0->dataprep) (3.7.0)\n",
      "Requirement already satisfied: ipython>=4.0.0 in d:\\anaconda\\lib\\site-packages (from ipywidgets<8.0,>=7.5->dataprep) (8.2.0)\n",
      "Requirement already satisfied: nbformat>=4.2.0 in d:\\anaconda\\lib\\site-packages (from ipywidgets<8.0,>=7.5->dataprep) (5.3.0)\n",
      "Requirement already satisfied: ipython-genutils~=0.2.0 in d:\\anaconda\\lib\\site-packages (from ipywidgets<8.0,>=7.5->dataprep) (0.2.0)\n",
      "Requirement already satisfied: ipykernel>=4.5.1 in d:\\anaconda\\lib\\site-packages (from ipywidgets<8.0,>=7.5->dataprep) (6.9.1)\n",
      "Requirement already satisfied: jupyterlab-widgets>=1.0.0 in d:\\anaconda\\lib\\site-packages (from ipywidgets<8.0,>=7.5->dataprep) (1.0.0)\n",
      "Requirement already satisfied: traitlets>=4.3.1 in d:\\anaconda\\lib\\site-packages (from ipywidgets<8.0,>=7.5->dataprep) (5.1.1)\n",
      "Requirement already satisfied: widgetsnbextension~=3.5.0 in d:\\anaconda\\lib\\site-packages (from ipywidgets<8.0,>=7.5->dataprep) (3.5.2)\n",
      "Requirement already satisfied: debugpy<2.0,>=1.0.0 in d:\\anaconda\\lib\\site-packages (from ipykernel>=4.5.1->ipywidgets<8.0,>=7.5->dataprep) (1.5.1)\n",
      "Requirement already satisfied: jupyter-client<8.0 in d:\\anaconda\\lib\\site-packages (from ipykernel>=4.5.1->ipywidgets<8.0,>=7.5->dataprep) (6.1.12)\n",
      "Requirement already satisfied: nest-asyncio in d:\\anaconda\\lib\\site-packages (from ipykernel>=4.5.1->ipywidgets<8.0,>=7.5->dataprep) (1.5.5)\n",
      "Requirement already satisfied: matplotlib-inline<0.2.0,>=0.1.0 in d:\\anaconda\\lib\\site-packages (from ipykernel>=4.5.1->ipywidgets<8.0,>=7.5->dataprep) (0.1.2)\n",
      "Requirement already satisfied: pygments>=2.4.0 in d:\\anaconda\\lib\\site-packages (from ipython>=4.0.0->ipywidgets<8.0,>=7.5->dataprep) (2.11.2)\n",
      "Requirement already satisfied: setuptools>=18.5 in d:\\anaconda\\lib\\site-packages (from ipython>=4.0.0->ipywidgets<8.0,>=7.5->dataprep) (67.7.1)\n",
      "Requirement already satisfied: decorator in d:\\anaconda\\lib\\site-packages (from ipython>=4.0.0->ipywidgets<8.0,>=7.5->dataprep) (5.1.1)\n",
      "Requirement already satisfied: stack-data in d:\\anaconda\\lib\\site-packages (from ipython>=4.0.0->ipywidgets<8.0,>=7.5->dataprep) (0.2.0)\n",
      "Requirement already satisfied: backcall in d:\\anaconda\\lib\\site-packages (from ipython>=4.0.0->ipywidgets<8.0,>=7.5->dataprep) (0.2.0)\n",
      "Requirement already satisfied: prompt-toolkit!=3.0.0,!=3.0.1,<3.1.0,>=2.0.0 in d:\\anaconda\\lib\\site-packages (from ipython>=4.0.0->ipywidgets<8.0,>=7.5->dataprep) (3.0.20)\n",
      "Requirement already satisfied: pickleshare in d:\\anaconda\\lib\\site-packages (from ipython>=4.0.0->ipywidgets<8.0,>=7.5->dataprep) (0.7.5)\n",
      "Requirement already satisfied: jedi>=0.16 in d:\\anaconda\\lib\\site-packages (from ipython>=4.0.0->ipywidgets<8.0,>=7.5->dataprep) (0.18.1)\n",
      "Requirement already satisfied: parso<0.9.0,>=0.8.0 in d:\\anaconda\\lib\\site-packages (from jedi>=0.16->ipython>=4.0.0->ipywidgets<8.0,>=7.5->dataprep) (0.8.3)\n",
      "Requirement already satisfied: MarkupSafe>=2.0 in d:\\anaconda\\lib\\site-packages (from jinja2<3.1,>=3.0->dataprep) (2.1.3)\n",
      "Requirement already satisfied: ply in d:\\anaconda\\lib\\site-packages (from jsonpath-ng<2.0,>=1.5->dataprep) (3.11)\n",
      "Requirement already satisfied: pyzmq>=13 in d:\\anaconda\\lib\\site-packages (from jupyter-client<8.0->ipykernel>=4.5.1->ipywidgets<8.0,>=7.5->dataprep) (22.3.0)\n",
      "Requirement already satisfied: jupyter-core>=4.6.0 in d:\\anaconda\\lib\\site-packages (from jupyter-client<8.0->ipykernel>=4.5.1->ipywidgets<8.0,>=7.5->dataprep) (4.9.2)\n",
      "Requirement already satisfied: python-dateutil>=2.1 in d:\\anaconda\\lib\\site-packages (from jupyter-client<8.0->ipykernel>=4.5.1->ipywidgets<8.0,>=7.5->dataprep) (2.8.2)\n",
      "Requirement already satisfied: pywin32>=1.0 in d:\\anaconda\\lib\\site-packages (from jupyter-core>=4.6.0->jupyter-client<8.0->ipykernel>=4.5.1->ipywidgets<8.0,>=7.5->dataprep) (302)\n"
     ]
    },
    {
     "name": "stdout",
     "output_type": "stream",
     "text": [
      "Requirement already satisfied: jsonschema>=2.6 in d:\\anaconda\\lib\\site-packages (from nbformat>=4.2.0->ipywidgets<8.0,>=7.5->dataprep) (4.4.0)\n",
      "Requirement already satisfied: fastjsonschema in d:\\anaconda\\lib\\site-packages (from nbformat>=4.2.0->ipywidgets<8.0,>=7.5->dataprep) (2.15.1)\n",
      "Requirement already satisfied: pyrsistent!=0.17.0,!=0.17.1,!=0.17.2,>=0.14.0 in d:\\anaconda\\lib\\site-packages (from jsonschema>=2.6->nbformat>=4.2.0->ipywidgets<8.0,>=7.5->dataprep) (0.18.0)\n",
      "Requirement already satisfied: joblib in d:\\anaconda\\lib\\site-packages (from nltk<4.0.0,>=3.6.7->dataprep) (1.3.1)\n",
      "Requirement already satisfied: pyparsing!=3.0.5,>=2.0.2 in d:\\anaconda\\lib\\site-packages (from packaging>=16.8->bokeh<3,>=2->dataprep) (3.0.4)\n",
      "Requirement already satisfied: pytz>=2017.3 in d:\\anaconda\\lib\\site-packages (from pandas<2.0,>=1.1->dataprep) (2021.3)\n",
      "Requirement already satisfied: locket in d:\\anaconda\\lib\\site-packages (from partd>=1.2.0->dask[array,dataframe,delayed]>=2022.3.0->dataprep) (0.2.1)\n",
      "Requirement already satisfied: wcwidth in d:\\anaconda\\lib\\site-packages (from prompt-toolkit!=3.0.0,!=3.0.1,<3.1.0,>=2.0.0->ipython>=4.0.0->ipywidgets<8.0,>=7.5->dataprep) (0.2.5)\n",
      "Requirement already satisfied: executing<0.9.0,>=0.8.3 in d:\\anaconda\\lib\\site-packages (from varname<0.9.0,>=0.8.1->dataprep) (0.8.3)\n",
      "Requirement already satisfied: pure_eval<1.0.0 in d:\\anaconda\\lib\\site-packages (from varname<0.9.0,>=0.8.1->dataprep) (0.2.2)\n",
      "Requirement already satisfied: asttokens<3.0.0,>=2.0.0 in d:\\anaconda\\lib\\site-packages (from varname<0.9.0,>=0.8.1->dataprep) (2.0.5)\n",
      "Requirement already satisfied: notebook>=4.4.1 in d:\\anaconda\\lib\\site-packages (from widgetsnbextension~=3.5.0->ipywidgets<8.0,>=7.5->dataprep) (6.4.8)\n",
      "Requirement already satisfied: Send2Trash>=1.8.0 in d:\\anaconda\\lib\\site-packages (from notebook>=4.4.1->widgetsnbextension~=3.5.0->ipywidgets<8.0,>=7.5->dataprep) (1.8.0)\n",
      "Requirement already satisfied: prometheus-client in d:\\anaconda\\lib\\site-packages (from notebook>=4.4.1->widgetsnbextension~=3.5.0->ipywidgets<8.0,>=7.5->dataprep) (0.13.1)\n",
      "Requirement already satisfied: nbconvert in d:\\anaconda\\lib\\site-packages (from notebook>=4.4.1->widgetsnbextension~=3.5.0->ipywidgets<8.0,>=7.5->dataprep) (6.4.4)\n",
      "Requirement already satisfied: terminado>=0.8.3 in d:\\anaconda\\lib\\site-packages (from notebook>=4.4.1->widgetsnbextension~=3.5.0->ipywidgets<8.0,>=7.5->dataprep) (0.13.1)\n",
      "Requirement already satisfied: argon2-cffi in d:\\anaconda\\lib\\site-packages (from notebook>=4.4.1->widgetsnbextension~=3.5.0->ipywidgets<8.0,>=7.5->dataprep) (21.3.0)\n",
      "Requirement already satisfied: pywinpty>=1.1.0 in d:\\anaconda\\lib\\site-packages (from terminado>=0.8.3->notebook>=4.4.1->widgetsnbextension~=3.5.0->ipywidgets<8.0,>=7.5->dataprep) (2.0.2)\n",
      "Requirement already satisfied: matplotlib in d:\\anaconda\\lib\\site-packages (from wordcloud<2.0,>=1.8->dataprep) (3.5.1)\n",
      "Requirement already satisfied: idna>=2.0 in d:\\anaconda\\lib\\site-packages (from yarl<2.0,>=1.0->aiohttp<4.0,>=3.6->dataprep) (3.3)\n",
      "Requirement already satisfied: argon2-cffi-bindings in d:\\anaconda\\lib\\site-packages (from argon2-cffi->notebook>=4.4.1->widgetsnbextension~=3.5.0->ipywidgets<8.0,>=7.5->dataprep) (21.2.0)\n",
      "Requirement already satisfied: cffi>=1.0.1 in d:\\anaconda\\lib\\site-packages (from argon2-cffi-bindings->argon2-cffi->notebook>=4.4.1->widgetsnbextension~=3.5.0->ipywidgets<8.0,>=7.5->dataprep) (1.15.0)\n",
      "Requirement already satisfied: pycparser in d:\\anaconda\\lib\\site-packages (from cffi>=1.0.1->argon2-cffi-bindings->argon2-cffi->notebook>=4.4.1->widgetsnbextension~=3.5.0->ipywidgets<8.0,>=7.5->dataprep) (2.21)\n",
      "Requirement already satisfied: kiwisolver>=1.0.1 in d:\\anaconda\\lib\\site-packages (from matplotlib->wordcloud<2.0,>=1.8->dataprep) (1.3.2)\n",
      "Requirement already satisfied: cycler>=0.10 in d:\\anaconda\\lib\\site-packages (from matplotlib->wordcloud<2.0,>=1.8->dataprep) (0.11.0)\n",
      "Requirement already satisfied: fonttools>=4.22.0 in d:\\anaconda\\lib\\site-packages (from matplotlib->wordcloud<2.0,>=1.8->dataprep) (4.25.0)\n",
      "Requirement already satisfied: jupyterlab-pygments in d:\\anaconda\\lib\\site-packages (from nbconvert->notebook>=4.4.1->widgetsnbextension~=3.5.0->ipywidgets<8.0,>=7.5->dataprep) (0.1.2)\n",
      "Requirement already satisfied: testpath in d:\\anaconda\\lib\\site-packages (from nbconvert->notebook>=4.4.1->widgetsnbextension~=3.5.0->ipywidgets<8.0,>=7.5->dataprep) (0.5.0)\n",
      "Requirement already satisfied: mistune<2,>=0.8.1 in d:\\anaconda\\lib\\site-packages (from nbconvert->notebook>=4.4.1->widgetsnbextension~=3.5.0->ipywidgets<8.0,>=7.5->dataprep) (0.8.4)\n",
      "Requirement already satisfied: defusedxml in d:\\anaconda\\lib\\site-packages (from nbconvert->notebook>=4.4.1->widgetsnbextension~=3.5.0->ipywidgets<8.0,>=7.5->dataprep) (0.7.1)\n",
      "Requirement already satisfied: entrypoints>=0.2.2 in d:\\anaconda\\lib\\site-packages (from nbconvert->notebook>=4.4.1->widgetsnbextension~=3.5.0->ipywidgets<8.0,>=7.5->dataprep) (0.4)\n",
      "Requirement already satisfied: bleach in d:\\anaconda\\lib\\site-packages (from nbconvert->notebook>=4.4.1->widgetsnbextension~=3.5.0->ipywidgets<8.0,>=7.5->dataprep) (4.1.0)\n",
      "Requirement already satisfied: pandocfilters>=1.4.1 in d:\\anaconda\\lib\\site-packages (from nbconvert->notebook>=4.4.1->widgetsnbextension~=3.5.0->ipywidgets<8.0,>=7.5->dataprep) (1.5.0)\n",
      "Requirement already satisfied: beautifulsoup4 in d:\\anaconda\\lib\\site-packages (from nbconvert->notebook>=4.4.1->widgetsnbextension~=3.5.0->ipywidgets<8.0,>=7.5->dataprep) (4.11.1)\n",
      "Requirement already satisfied: nbclient<0.6.0,>=0.5.0 in d:\\anaconda\\lib\\site-packages (from nbconvert->notebook>=4.4.1->widgetsnbextension~=3.5.0->ipywidgets<8.0,>=7.5->dataprep) (0.5.13)\n",
      "Requirement already satisfied: soupsieve>1.2 in d:\\anaconda\\lib\\site-packages (from beautifulsoup4->nbconvert->notebook>=4.4.1->widgetsnbextension~=3.5.0->ipywidgets<8.0,>=7.5->dataprep) (2.3.1)\n",
      "Requirement already satisfied: webencodings in d:\\anaconda\\lib\\site-packages (from bleach->nbconvert->notebook>=4.4.1->widgetsnbextension~=3.5.0->ipywidgets<8.0,>=7.5->dataprep) (0.5.1)\n"
     ]
    }
   ],
   "source": [
    "!pip install  dataprep"
   ]
  },
  {
   "cell_type": "code",
   "execution_count": 2,
   "metadata": {
    "id": "FCEovcSJdxLw"
   },
   "outputs": [],
   "source": [
    "import numpy as np\n",
    "import pandas as pd\n",
    "import math\n",
    "\n",
    "from datetime import timedelta, datetime\n",
    "\n",
    "from dataprep.clean import clean_country\n",
    "\n",
    "import matplotlib.pyplot as plt\n",
    "%matplotlib inline\n",
    "plt.style.use(\"seaborn\")\n",
    "plt.rcParams[\"figure.figsize\"] = (20, 5)"
   ]
  },
  {
   "cell_type": "markdown",
   "metadata": {
    "id": "MmOaye24dxLw"
   },
   "source": [
    "### Exploring and preparing the data"
   ]
  },
  {
   "cell_type": "code",
   "execution_count": 3,
   "metadata": {
    "id": "r6hCnPlddxLw"
   },
   "outputs": [
    {
     "data": {
      "text/html": [
       "<div>\n",
       "<style scoped>\n",
       "    .dataframe tbody tr th:only-of-type {\n",
       "        vertical-align: middle;\n",
       "    }\n",
       "\n",
       "    .dataframe tbody tr th {\n",
       "        vertical-align: top;\n",
       "    }\n",
       "\n",
       "    .dataframe thead th {\n",
       "        text-align: right;\n",
       "    }\n",
       "</style>\n",
       "<table border=\"1\" class=\"dataframe\">\n",
       "  <thead>\n",
       "    <tr style=\"text-align: right;\">\n",
       "      <th></th>\n",
       "      <th>country</th>\n",
       "      <th>id</th>\n",
       "      <th>week.year</th>\n",
       "      <th>revenue</th>\n",
       "      <th>units</th>\n",
       "    </tr>\n",
       "  </thead>\n",
       "  <tbody>\n",
       "    <tr>\n",
       "      <th>0</th>\n",
       "      <td>KR</td>\n",
       "      <td>702234</td>\n",
       "      <td>03.2019</td>\n",
       "      <td>808.08</td>\n",
       "      <td>1</td>\n",
       "    </tr>\n",
       "    <tr>\n",
       "      <th>1</th>\n",
       "      <td>KR</td>\n",
       "      <td>702234</td>\n",
       "      <td>06.2019</td>\n",
       "      <td>1606.80</td>\n",
       "      <td>2</td>\n",
       "    </tr>\n",
       "    <tr>\n",
       "      <th>2</th>\n",
       "      <td>KR</td>\n",
       "      <td>3618438</td>\n",
       "      <td>08.2019</td>\n",
       "      <td>803.40</td>\n",
       "      <td>1</td>\n",
       "    </tr>\n",
       "    <tr>\n",
       "      <th>3</th>\n",
       "      <td>KR</td>\n",
       "      <td>3618438</td>\n",
       "      <td>09.2019</td>\n",
       "      <td>803.40</td>\n",
       "      <td>1</td>\n",
       "    </tr>\n",
       "    <tr>\n",
       "      <th>4</th>\n",
       "      <td>KR</td>\n",
       "      <td>3618438</td>\n",
       "      <td>09.2019</td>\n",
       "      <td>803.40</td>\n",
       "      <td>1</td>\n",
       "    </tr>\n",
       "    <tr>\n",
       "      <th>...</th>\n",
       "      <td>...</td>\n",
       "      <td>...</td>\n",
       "      <td>...</td>\n",
       "      <td>...</td>\n",
       "      <td>...</td>\n",
       "    </tr>\n",
       "    <tr>\n",
       "      <th>235569</th>\n",
       "      <td>CN</td>\n",
       "      <td>2452476</td>\n",
       "      <td>27.2020</td>\n",
       "      <td>41160.00</td>\n",
       "      <td>200</td>\n",
       "    </tr>\n",
       "    <tr>\n",
       "      <th>235570</th>\n",
       "      <td>CN</td>\n",
       "      <td>2452476</td>\n",
       "      <td>27.2020</td>\n",
       "      <td>50856.00</td>\n",
       "      <td>400</td>\n",
       "    </tr>\n",
       "    <tr>\n",
       "      <th>235571</th>\n",
       "      <td>CN</td>\n",
       "      <td>2452476</td>\n",
       "      <td>27.2020</td>\n",
       "      <td>79920.00</td>\n",
       "      <td>1200</td>\n",
       "    </tr>\n",
       "    <tr>\n",
       "      <th>235572</th>\n",
       "      <td>CN</td>\n",
       "      <td>4553904</td>\n",
       "      <td>27.2020</td>\n",
       "      <td>4788.00</td>\n",
       "      <td>100</td>\n",
       "    </tr>\n",
       "    <tr>\n",
       "      <th>235573</th>\n",
       "      <td>CN</td>\n",
       "      <td>4553904</td>\n",
       "      <td>27.2020</td>\n",
       "      <td>4188.00</td>\n",
       "      <td>100</td>\n",
       "    </tr>\n",
       "  </tbody>\n",
       "</table>\n",
       "<p>235574 rows × 5 columns</p>\n",
       "</div>"
      ],
      "text/plain": [
       "       country       id week.year   revenue  units\n",
       "0           KR   702234   03.2019    808.08      1\n",
       "1           KR   702234   06.2019   1606.80      2\n",
       "2           KR  3618438   08.2019    803.40      1\n",
       "3           KR  3618438   09.2019    803.40      1\n",
       "4           KR  3618438   09.2019    803.40      1\n",
       "...        ...      ...       ...       ...    ...\n",
       "235569      CN  2452476   27.2020  41160.00    200\n",
       "235570      CN  2452476   27.2020  50856.00    400\n",
       "235571      CN  2452476   27.2020  79920.00   1200\n",
       "235572      CN  4553904   27.2020   4788.00    100\n",
       "235573      CN  4553904   27.2020   4188.00    100\n",
       "\n",
       "[235574 rows x 5 columns]"
      ]
     },
     "execution_count": 3,
     "metadata": {},
     "output_type": "execute_result"
    }
   ],
   "source": [
    "# Read CSV file\n",
    "\n",
    "df1 = pd.read_csv('https://raw.githubusercontent.com/AImmanuel/Customer-Segmentation/main/sales_asia.csv', \n",
    "                  dtype={'week.year': str}, \n",
    "                  sep=';', \n",
    "                  decimal=',')\n",
    "\n",
    "df1"
   ]
  },
  {
   "cell_type": "code",
   "execution_count": 4,
   "metadata": {
    "colab": {
     "base_uri": "https://localhost:8080/"
    },
    "id": "MIVB5Y5jdxLx",
    "outputId": "e330a5e0-c1b3-47f9-9b8d-66d016a129e5"
   },
   "outputs": [
    {
     "name": "stdout",
     "output_type": "stream",
     "text": [
      "<class 'pandas.core.frame.DataFrame'>\n",
      "RangeIndex: 235574 entries, 0 to 235573\n",
      "Data columns (total 5 columns):\n",
      " #   Column     Non-Null Count   Dtype  \n",
      "---  ------     --------------   -----  \n",
      " 0   country    235574 non-null  object \n",
      " 1   id         235574 non-null  int64  \n",
      " 2   week.year  235574 non-null  object \n",
      " 3   revenue    235574 non-null  float64\n",
      " 4   units      235574 non-null  int64  \n",
      "dtypes: float64(1), int64(2), object(2)\n",
      "memory usage: 9.0+ MB\n"
     ]
    },
    {
     "data": {
      "text/plain": [
       "((235574, 5), None)"
      ]
     },
     "execution_count": 4,
     "metadata": {},
     "output_type": "execute_result"
    }
   ],
   "source": [
    "# Print the shape and basic information about the data.\n",
    "df1.shape, df1.info()"
   ]
  },
  {
   "cell_type": "code",
   "execution_count": 5,
   "metadata": {
    "id": "D0ihJZAVdxLx"
   },
   "outputs": [],
   "source": [
    "# Splitting 'week.year' column on '.' and creating 'week' and 'year' columns\n",
    "\n",
    "df1['week'] = df1['week.year'].astype(str).str.split('.').str[0]\n",
    "df1['year'] = df1['week.year'].astype(str).str.split('.').str[1]"
   ]
  },
  {
   "cell_type": "code",
   "execution_count": 6,
   "metadata": {
    "colab": {
     "base_uri": "https://localhost:8080/",
     "height": 204
    },
    "id": "OI2P55WCv2ZV",
    "outputId": "cc7bba7f-7d69-4c56-ef95-11cdf0a7a3bd"
   },
   "outputs": [
    {
     "data": {
      "text/html": [
       "<div>\n",
       "<style scoped>\n",
       "    .dataframe tbody tr th:only-of-type {\n",
       "        vertical-align: middle;\n",
       "    }\n",
       "\n",
       "    .dataframe tbody tr th {\n",
       "        vertical-align: top;\n",
       "    }\n",
       "\n",
       "    .dataframe thead th {\n",
       "        text-align: right;\n",
       "    }\n",
       "</style>\n",
       "<table border=\"1\" class=\"dataframe\">\n",
       "  <thead>\n",
       "    <tr style=\"text-align: right;\">\n",
       "      <th></th>\n",
       "      <th>country</th>\n",
       "      <th>id</th>\n",
       "      <th>week.year</th>\n",
       "      <th>revenue</th>\n",
       "      <th>units</th>\n",
       "      <th>week</th>\n",
       "      <th>year</th>\n",
       "    </tr>\n",
       "  </thead>\n",
       "  <tbody>\n",
       "    <tr>\n",
       "      <th>0</th>\n",
       "      <td>KR</td>\n",
       "      <td>702234</td>\n",
       "      <td>03.2019</td>\n",
       "      <td>808.08</td>\n",
       "      <td>1</td>\n",
       "      <td>03</td>\n",
       "      <td>2019</td>\n",
       "    </tr>\n",
       "    <tr>\n",
       "      <th>1</th>\n",
       "      <td>KR</td>\n",
       "      <td>702234</td>\n",
       "      <td>06.2019</td>\n",
       "      <td>1606.80</td>\n",
       "      <td>2</td>\n",
       "      <td>06</td>\n",
       "      <td>2019</td>\n",
       "    </tr>\n",
       "    <tr>\n",
       "      <th>2</th>\n",
       "      <td>KR</td>\n",
       "      <td>3618438</td>\n",
       "      <td>08.2019</td>\n",
       "      <td>803.40</td>\n",
       "      <td>1</td>\n",
       "      <td>08</td>\n",
       "      <td>2019</td>\n",
       "    </tr>\n",
       "    <tr>\n",
       "      <th>3</th>\n",
       "      <td>KR</td>\n",
       "      <td>3618438</td>\n",
       "      <td>09.2019</td>\n",
       "      <td>803.40</td>\n",
       "      <td>1</td>\n",
       "      <td>09</td>\n",
       "      <td>2019</td>\n",
       "    </tr>\n",
       "    <tr>\n",
       "      <th>4</th>\n",
       "      <td>KR</td>\n",
       "      <td>3618438</td>\n",
       "      <td>09.2019</td>\n",
       "      <td>803.40</td>\n",
       "      <td>1</td>\n",
       "      <td>09</td>\n",
       "      <td>2019</td>\n",
       "    </tr>\n",
       "  </tbody>\n",
       "</table>\n",
       "</div>"
      ],
      "text/plain": [
       "  country       id week.year  revenue  units week  year\n",
       "0      KR   702234   03.2019   808.08      1   03  2019\n",
       "1      KR   702234   06.2019  1606.80      2   06  2019\n",
       "2      KR  3618438   08.2019   803.40      1   08  2019\n",
       "3      KR  3618438   09.2019   803.40      1   09  2019\n",
       "4      KR  3618438   09.2019   803.40      1   09  2019"
      ]
     },
     "execution_count": 6,
     "metadata": {},
     "output_type": "execute_result"
    }
   ],
   "source": [
    "df1.head()"
   ]
  },
  {
   "cell_type": "code",
   "execution_count": 7,
   "metadata": {
    "id": "I-36EMcXdxLx"
   },
   "outputs": [],
   "source": [
    "# Using Monday as first day of the week\n",
    "\n",
    "df1['date'] = pd.to_datetime(df1['year'].map(str) + df1['week'].map(str) + '-1', format='%Y%W-%w')"
   ]
  },
  {
   "cell_type": "code",
   "execution_count": 8,
   "metadata": {
    "colab": {
     "base_uri": "https://localhost:8080/",
     "height": 204
    },
    "id": "OBqDEwUFyu0B",
    "outputId": "1405d0d2-f02c-454a-f583-5ec0544cedc9"
   },
   "outputs": [
    {
     "data": {
      "text/html": [
       "<div>\n",
       "<style scoped>\n",
       "    .dataframe tbody tr th:only-of-type {\n",
       "        vertical-align: middle;\n",
       "    }\n",
       "\n",
       "    .dataframe tbody tr th {\n",
       "        vertical-align: top;\n",
       "    }\n",
       "\n",
       "    .dataframe thead th {\n",
       "        text-align: right;\n",
       "    }\n",
       "</style>\n",
       "<table border=\"1\" class=\"dataframe\">\n",
       "  <thead>\n",
       "    <tr style=\"text-align: right;\">\n",
       "      <th></th>\n",
       "      <th>country</th>\n",
       "      <th>id</th>\n",
       "      <th>week.year</th>\n",
       "      <th>revenue</th>\n",
       "      <th>units</th>\n",
       "      <th>week</th>\n",
       "      <th>year</th>\n",
       "      <th>date</th>\n",
       "    </tr>\n",
       "  </thead>\n",
       "  <tbody>\n",
       "    <tr>\n",
       "      <th>0</th>\n",
       "      <td>KR</td>\n",
       "      <td>702234</td>\n",
       "      <td>03.2019</td>\n",
       "      <td>808.08</td>\n",
       "      <td>1</td>\n",
       "      <td>03</td>\n",
       "      <td>2019</td>\n",
       "      <td>2019-01-21</td>\n",
       "    </tr>\n",
       "    <tr>\n",
       "      <th>1</th>\n",
       "      <td>KR</td>\n",
       "      <td>702234</td>\n",
       "      <td>06.2019</td>\n",
       "      <td>1606.80</td>\n",
       "      <td>2</td>\n",
       "      <td>06</td>\n",
       "      <td>2019</td>\n",
       "      <td>2019-02-11</td>\n",
       "    </tr>\n",
       "    <tr>\n",
       "      <th>2</th>\n",
       "      <td>KR</td>\n",
       "      <td>3618438</td>\n",
       "      <td>08.2019</td>\n",
       "      <td>803.40</td>\n",
       "      <td>1</td>\n",
       "      <td>08</td>\n",
       "      <td>2019</td>\n",
       "      <td>2019-02-25</td>\n",
       "    </tr>\n",
       "    <tr>\n",
       "      <th>3</th>\n",
       "      <td>KR</td>\n",
       "      <td>3618438</td>\n",
       "      <td>09.2019</td>\n",
       "      <td>803.40</td>\n",
       "      <td>1</td>\n",
       "      <td>09</td>\n",
       "      <td>2019</td>\n",
       "      <td>2019-03-04</td>\n",
       "    </tr>\n",
       "    <tr>\n",
       "      <th>4</th>\n",
       "      <td>KR</td>\n",
       "      <td>3618438</td>\n",
       "      <td>09.2019</td>\n",
       "      <td>803.40</td>\n",
       "      <td>1</td>\n",
       "      <td>09</td>\n",
       "      <td>2019</td>\n",
       "      <td>2019-03-04</td>\n",
       "    </tr>\n",
       "  </tbody>\n",
       "</table>\n",
       "</div>"
      ],
      "text/plain": [
       "  country       id week.year  revenue  units week  year       date\n",
       "0      KR   702234   03.2019   808.08      1   03  2019 2019-01-21\n",
       "1      KR   702234   06.2019  1606.80      2   06  2019 2019-02-11\n",
       "2      KR  3618438   08.2019   803.40      1   08  2019 2019-02-25\n",
       "3      KR  3618438   09.2019   803.40      1   09  2019 2019-03-04\n",
       "4      KR  3618438   09.2019   803.40      1   09  2019 2019-03-04"
      ]
     },
     "execution_count": 8,
     "metadata": {},
     "output_type": "execute_result"
    }
   ],
   "source": [
    "df1.head()"
   ]
  },
  {
   "cell_type": "code",
   "execution_count": 9,
   "metadata": {
    "colab": {
     "base_uri": "https://localhost:8080/"
    },
    "id": "dMrWJNfzdxLx",
    "outputId": "ec5fd58c-7d3e-471f-d439-61b5216563eb"
   },
   "outputs": [
    {
     "data": {
      "text/plain": [
       "Index(['country', 'id', 'week.year', 'revenue', 'units', 'week', 'year',\n",
       "       'date'],\n",
       "      dtype='object')"
      ]
     },
     "execution_count": 9,
     "metadata": {},
     "output_type": "execute_result"
    }
   ],
   "source": [
    "# Print the columns \n",
    "\n",
    "df1.columns"
   ]
  },
  {
   "cell_type": "code",
   "execution_count": 10,
   "metadata": {
    "id": "Ex5z6Kl1dxLx"
   },
   "outputs": [
    {
     "data": {
      "text/html": [
       "<div>\n",
       "<style scoped>\n",
       "    .dataframe tbody tr th:only-of-type {\n",
       "        vertical-align: middle;\n",
       "    }\n",
       "\n",
       "    .dataframe tbody tr th {\n",
       "        vertical-align: top;\n",
       "    }\n",
       "\n",
       "    .dataframe thead th {\n",
       "        text-align: right;\n",
       "    }\n",
       "</style>\n",
       "<table border=\"1\" class=\"dataframe\">\n",
       "  <thead>\n",
       "    <tr style=\"text-align: right;\">\n",
       "      <th></th>\n",
       "      <th>country</th>\n",
       "      <th>id</th>\n",
       "      <th>revenue</th>\n",
       "      <th>units</th>\n",
       "      <th>date</th>\n",
       "    </tr>\n",
       "  </thead>\n",
       "  <tbody>\n",
       "    <tr>\n",
       "      <th>0</th>\n",
       "      <td>KR</td>\n",
       "      <td>702234</td>\n",
       "      <td>808.08</td>\n",
       "      <td>1</td>\n",
       "      <td>2019-01-21</td>\n",
       "    </tr>\n",
       "    <tr>\n",
       "      <th>1</th>\n",
       "      <td>KR</td>\n",
       "      <td>702234</td>\n",
       "      <td>1606.80</td>\n",
       "      <td>2</td>\n",
       "      <td>2019-02-11</td>\n",
       "    </tr>\n",
       "    <tr>\n",
       "      <th>2</th>\n",
       "      <td>KR</td>\n",
       "      <td>3618438</td>\n",
       "      <td>803.40</td>\n",
       "      <td>1</td>\n",
       "      <td>2019-02-25</td>\n",
       "    </tr>\n",
       "    <tr>\n",
       "      <th>3</th>\n",
       "      <td>KR</td>\n",
       "      <td>3618438</td>\n",
       "      <td>803.40</td>\n",
       "      <td>1</td>\n",
       "      <td>2019-03-04</td>\n",
       "    </tr>\n",
       "    <tr>\n",
       "      <th>4</th>\n",
       "      <td>KR</td>\n",
       "      <td>3618438</td>\n",
       "      <td>803.40</td>\n",
       "      <td>1</td>\n",
       "      <td>2019-03-04</td>\n",
       "    </tr>\n",
       "  </tbody>\n",
       "</table>\n",
       "</div>"
      ],
      "text/plain": [
       "  country       id  revenue  units       date\n",
       "0      KR   702234   808.08      1 2019-01-21\n",
       "1      KR   702234  1606.80      2 2019-02-11\n",
       "2      KR  3618438   803.40      1 2019-02-25\n",
       "3      KR  3618438   803.40      1 2019-03-04\n",
       "4      KR  3618438   803.40      1 2019-03-04"
      ]
     },
     "execution_count": 10,
     "metadata": {},
     "output_type": "execute_result"
    }
   ],
   "source": [
    "# Removing unnecesary columns\n",
    "\n",
    "df2 = df1.drop(['week.year', 'week', 'year'], axis=1)\n",
    "df2.head()"
   ]
  },
  {
   "cell_type": "code",
   "execution_count": 11,
   "metadata": {
    "id": "Hv7y4c2-dxLx"
   },
   "outputs": [
    {
     "data": {
      "text/html": [
       "<div>\n",
       "<style scoped>\n",
       "    .dataframe tbody tr th:only-of-type {\n",
       "        vertical-align: middle;\n",
       "    }\n",
       "\n",
       "    .dataframe tbody tr th {\n",
       "        vertical-align: top;\n",
       "    }\n",
       "\n",
       "    .dataframe thead th {\n",
       "        text-align: right;\n",
       "    }\n",
       "</style>\n",
       "<table border=\"1\" class=\"dataframe\">\n",
       "  <thead>\n",
       "    <tr style=\"text-align: right;\">\n",
       "      <th></th>\n",
       "      <th>country</th>\n",
       "      <th>id</th>\n",
       "      <th>monetary</th>\n",
       "      <th>units</th>\n",
       "      <th>date</th>\n",
       "    </tr>\n",
       "  </thead>\n",
       "  <tbody>\n",
       "    <tr>\n",
       "      <th>0</th>\n",
       "      <td>KR</td>\n",
       "      <td>702234</td>\n",
       "      <td>808.08</td>\n",
       "      <td>1</td>\n",
       "      <td>2019-01-21</td>\n",
       "    </tr>\n",
       "    <tr>\n",
       "      <th>1</th>\n",
       "      <td>KR</td>\n",
       "      <td>702234</td>\n",
       "      <td>1606.80</td>\n",
       "      <td>2</td>\n",
       "      <td>2019-02-11</td>\n",
       "    </tr>\n",
       "    <tr>\n",
       "      <th>2</th>\n",
       "      <td>KR</td>\n",
       "      <td>3618438</td>\n",
       "      <td>803.40</td>\n",
       "      <td>1</td>\n",
       "      <td>2019-02-25</td>\n",
       "    </tr>\n",
       "    <tr>\n",
       "      <th>3</th>\n",
       "      <td>KR</td>\n",
       "      <td>3618438</td>\n",
       "      <td>803.40</td>\n",
       "      <td>1</td>\n",
       "      <td>2019-03-04</td>\n",
       "    </tr>\n",
       "    <tr>\n",
       "      <th>4</th>\n",
       "      <td>KR</td>\n",
       "      <td>3618438</td>\n",
       "      <td>803.40</td>\n",
       "      <td>1</td>\n",
       "      <td>2019-03-04</td>\n",
       "    </tr>\n",
       "  </tbody>\n",
       "</table>\n",
       "</div>"
      ],
      "text/plain": [
       "  country       id  monetary  units       date\n",
       "0      KR   702234    808.08      1 2019-01-21\n",
       "1      KR   702234   1606.80      2 2019-02-11\n",
       "2      KR  3618438    803.40      1 2019-02-25\n",
       "3      KR  3618438    803.40      1 2019-03-04\n",
       "4      KR  3618438    803.40      1 2019-03-04"
      ]
     },
     "execution_count": 11,
     "metadata": {},
     "output_type": "execute_result"
    }
   ],
   "source": [
    "#Renaming columns\n",
    "\n",
    "df2.rename({'revenue': 'monetary'}, axis=\"columns\", inplace=True)\n",
    "df2.head()"
   ]
  },
  {
   "cell_type": "code",
   "execution_count": 12,
   "metadata": {
    "colab": {
     "base_uri": "https://localhost:8080/"
    },
    "id": "oBC8ZeQDdxLy",
    "outputId": "1f15016c-42b7-49b0-e2c3-a4685bc28d64"
   },
   "outputs": [
    {
     "name": "stdout",
     "output_type": "stream",
     "text": [
      "<class 'pandas.core.frame.DataFrame'>\n",
      "RangeIndex: 235574 entries, 0 to 235573\n",
      "Data columns (total 5 columns):\n",
      " #   Column    Non-Null Count   Dtype         \n",
      "---  ------    --------------   -----         \n",
      " 0   country   235574 non-null  object        \n",
      " 1   id        235574 non-null  int64         \n",
      " 2   monetary  235574 non-null  float64       \n",
      " 3   units     235574 non-null  int64         \n",
      " 4   date      235574 non-null  datetime64[ns]\n",
      "dtypes: datetime64[ns](1), float64(1), int64(2), object(1)\n",
      "memory usage: 9.0+ MB\n"
     ]
    }
   ],
   "source": [
    "df2.info()"
   ]
  },
  {
   "cell_type": "code",
   "execution_count": 13,
   "metadata": {
    "colab": {
     "base_uri": "https://localhost:8080/",
     "height": 297
    },
    "id": "WV5lfK4IdxLy",
    "outputId": "fd3336f6-8fd7-4cd6-cfea-de6853960dc4"
   },
   "outputs": [
    {
     "data": {
      "text/html": [
       "<div>\n",
       "<style scoped>\n",
       "    .dataframe tbody tr th:only-of-type {\n",
       "        vertical-align: middle;\n",
       "    }\n",
       "\n",
       "    .dataframe tbody tr th {\n",
       "        vertical-align: top;\n",
       "    }\n",
       "\n",
       "    .dataframe thead th {\n",
       "        text-align: right;\n",
       "    }\n",
       "</style>\n",
       "<table border=\"1\" class=\"dataframe\">\n",
       "  <thead>\n",
       "    <tr style=\"text-align: right;\">\n",
       "      <th></th>\n",
       "      <th>id</th>\n",
       "      <th>monetary</th>\n",
       "      <th>units</th>\n",
       "    </tr>\n",
       "  </thead>\n",
       "  <tbody>\n",
       "    <tr>\n",
       "      <th>count</th>\n",
       "      <td>2.355740e+05</td>\n",
       "      <td>2.355740e+05</td>\n",
       "      <td>235574.000000</td>\n",
       "    </tr>\n",
       "    <tr>\n",
       "      <th>mean</th>\n",
       "      <td>3.193118e+06</td>\n",
       "      <td>2.840211e+03</td>\n",
       "      <td>8.599642</td>\n",
       "    </tr>\n",
       "    <tr>\n",
       "      <th>std</th>\n",
       "      <td>7.371744e+06</td>\n",
       "      <td>2.247532e+04</td>\n",
       "      <td>602.939290</td>\n",
       "    </tr>\n",
       "    <tr>\n",
       "      <th>min</th>\n",
       "      <td>6.000180e+05</td>\n",
       "      <td>-1.061539e+05</td>\n",
       "      <td>-150000.000000</td>\n",
       "    </tr>\n",
       "    <tr>\n",
       "      <th>25%</th>\n",
       "      <td>2.214396e+06</td>\n",
       "      <td>3.994800e+02</td>\n",
       "      <td>1.000000</td>\n",
       "    </tr>\n",
       "    <tr>\n",
       "      <th>50%</th>\n",
       "      <td>3.140856e+06</td>\n",
       "      <td>1.150320e+03</td>\n",
       "      <td>1.000000</td>\n",
       "    </tr>\n",
       "    <tr>\n",
       "      <th>75%</th>\n",
       "      <td>3.892650e+06</td>\n",
       "      <td>2.216160e+03</td>\n",
       "      <td>2.000000</td>\n",
       "    </tr>\n",
       "    <tr>\n",
       "      <th>max</th>\n",
       "      <td>2.419308e+08</td>\n",
       "      <td>2.415857e+06</td>\n",
       "      <td>150000.000000</td>\n",
       "    </tr>\n",
       "  </tbody>\n",
       "</table>\n",
       "</div>"
      ],
      "text/plain": [
       "                 id      monetary          units\n",
       "count  2.355740e+05  2.355740e+05  235574.000000\n",
       "mean   3.193118e+06  2.840211e+03       8.599642\n",
       "std    7.371744e+06  2.247532e+04     602.939290\n",
       "min    6.000180e+05 -1.061539e+05 -150000.000000\n",
       "25%    2.214396e+06  3.994800e+02       1.000000\n",
       "50%    3.140856e+06  1.150320e+03       1.000000\n",
       "75%    3.892650e+06  2.216160e+03       2.000000\n",
       "max    2.419308e+08  2.415857e+06  150000.000000"
      ]
     },
     "execution_count": 13,
     "metadata": {},
     "output_type": "execute_result"
    }
   ],
   "source": [
    "# Find basic description of the Dataframe\n",
    "\n",
    "df2.describe()"
   ]
  },
  {
   "cell_type": "code",
   "execution_count": 14,
   "metadata": {
    "id": "g3NeSfPA46JM"
   },
   "outputs": [],
   "source": [
    "# We have 235574 transactions in the period of time icluded in the dataset\n",
    "# Biggest transaction was 150,000 units. But it seems there was a return of that amount as well, -150,000 units\n",
    "# Most expensive purchase was 2.41 Millions"
   ]
  },
  {
   "cell_type": "code",
   "execution_count": 15,
   "metadata": {
    "colab": {
     "base_uri": "https://localhost:8080/"
    },
    "id": "SMjrADYXdxLy",
    "outputId": "957e1ec9-4e79-442c-a691-84d7fe64964c"
   },
   "outputs": [
    {
     "data": {
      "text/plain": [
       "country     0\n",
       "id          0\n",
       "monetary    0\n",
       "units       0\n",
       "date        0\n",
       "dtype: int64"
      ]
     },
     "execution_count": 15,
     "metadata": {},
     "output_type": "execute_result"
    }
   ],
   "source": [
    "# Check if there are any null values in the Dataframe\n",
    "\n",
    "df2.isnull().sum()"
   ]
  },
  {
   "cell_type": "code",
   "execution_count": 16,
   "metadata": {
    "colab": {
     "base_uri": "https://localhost:8080/"
    },
    "id": "VfddguWY4TUf",
    "outputId": "7851c0e8-7134-43d3-ddee-664e2b8217cd"
   },
   "outputs": [
    {
     "data": {
      "text/plain": [
       "(Timestamp('2019-01-07 00:00:00'), Timestamp('2020-11-30 00:00:00'))"
      ]
     },
     "execution_count": 16,
     "metadata": {},
     "output_type": "execute_result"
    }
   ],
   "source": [
    "# View the period of time included in the dataset\n",
    "\n",
    "df2['date'].min(), df2['date'].max()"
   ]
  },
  {
   "cell_type": "code",
   "execution_count": 17,
   "metadata": {
    "colab": {
     "base_uri": "https://localhost:8080/"
    },
    "id": "wGNkehy83Sy7",
    "outputId": "0cae2089-8d0e-4aa2-f678-cc430201da51"
   },
   "outputs": [
    {
     "data": {
      "text/plain": [
       "array(['KR', 'PK', 'MM', 'VN', 'IN', 'SA', 'PH', 'AF', 'CN', 'BD', 'ID',\n",
       "       'TH', 'IQ', 'MY', 'JP', 'IR', 'TR', 'UZ'], dtype=object)"
      ]
     },
     "execution_count": 17,
     "metadata": {},
     "output_type": "execute_result"
    }
   ],
   "source": [
    "# List thr different countries with sales in the chosen period\n",
    "\n",
    "df2['country'].unique()"
   ]
  },
  {
   "cell_type": "code",
   "execution_count": 18,
   "metadata": {
    "colab": {
     "base_uri": "https://localhost:8080/"
    },
    "id": "EzqHjFq531Sw",
    "outputId": "d40a8cb3-e322-4fb0-806d-84fb0a414716"
   },
   "outputs": [
    {
     "data": {
      "text/plain": [
       "18"
      ]
     },
     "execution_count": 18,
     "metadata": {},
     "output_type": "execute_result"
    }
   ],
   "source": [
    "# Count the number of unique country names\n",
    "\n",
    "df2['country'].nunique()"
   ]
  },
  {
   "cell_type": "code",
   "execution_count": 19,
   "metadata": {
    "colab": {
     "base_uri": "https://localhost:8080/"
    },
    "id": "b7WFvvE6Et4_",
    "outputId": "ae9d64f1-6fe1-4f88-ec6c-db296426a370"
   },
   "outputs": [
    {
     "name": "stderr",
     "output_type": "stream",
     "text": [
      "D:\\Anaconda\\lib\\site-packages\\dask\\dataframe\\core.py:7047: FutureWarning: Meta is not valid, `map_partitions` and `map_overlap` expects output to be a pandas object. Try passing a pandas object as meta or a dict or tuple representing the (name, dtype) of the columns. In the future the meta you passed will not work.\n",
      "  warnings.warn(\n"
     ]
    },
    {
     "data": {
      "application/vnd.jupyter.widget-view+json": {
       "model_id": "",
       "version_major": 2,
       "version_minor": 0
      },
      "text/plain": [
       "  0%|                                                                                            | 0/8 [00:00<…"
      ]
     },
     "metadata": {},
     "output_type": "display_data"
    },
    {
     "name": "stdout",
     "output_type": "stream",
     "text": [
      "Country Cleaning Report:\n",
      "\t235574 values cleaned (100.0%)\n",
      "Result contains 235574 (100.0%) values in the correct format and 0 null values (0.0%)\n"
     ]
    },
    {
     "data": {
      "text/plain": [
       "array(['South Korea', 'Pakistan', 'Myanmar', 'Vietnam', 'India',\n",
       "       'Saudi Arabia', 'Philippines', 'Afghanistan', 'China',\n",
       "       'Bangladesh', 'Indonesia', 'Thailand', 'Iraq', 'Malaysia', 'Japan',\n",
       "       'Iran', 'Turkey', 'Uzbekistan'], dtype=object)"
      ]
     },
     "execution_count": 19,
     "metadata": {},
     "output_type": "execute_result"
    }
   ],
   "source": [
    "# Transforming country codes into full country names with clean_country function from dataprep library\n",
    "\n",
    "clean_country(df2, \"country\")['country_clean'].unique()"
   ]
  },
  {
   "cell_type": "code",
   "execution_count": 20,
   "metadata": {
    "colab": {
     "base_uri": "https://localhost:8080/"
    },
    "id": "_NfRCnq131Ob",
    "outputId": "7029a7b9-ef23-41c9-a31f-b05bfe4eac16"
   },
   "outputs": [
    {
     "data": {
      "text/plain": [
       "21837"
      ]
     },
     "execution_count": 20,
     "metadata": {},
     "output_type": "execute_result"
    }
   ],
   "source": [
    "# Total number of customers in all countries\n",
    "\n",
    "df2['id'].nunique()"
   ]
  },
  {
   "cell_type": "code",
   "execution_count": 21,
   "metadata": {
    "colab": {
     "base_uri": "https://localhost:8080/",
     "height": 235
    },
    "id": "9UHW6jQh31KE",
    "outputId": "afc2d85a-6f50-4434-b9c9-4034d5c77c77"
   },
   "outputs": [
    {
     "data": {
      "text/html": [
       "<div>\n",
       "<style scoped>\n",
       "    .dataframe tbody tr th:only-of-type {\n",
       "        vertical-align: middle;\n",
       "    }\n",
       "\n",
       "    .dataframe tbody tr th {\n",
       "        vertical-align: top;\n",
       "    }\n",
       "\n",
       "    .dataframe thead th {\n",
       "        text-align: right;\n",
       "    }\n",
       "</style>\n",
       "<table border=\"1\" class=\"dataframe\">\n",
       "  <thead>\n",
       "    <tr style=\"text-align: right;\">\n",
       "      <th></th>\n",
       "      <th>country</th>\n",
       "      <th>id</th>\n",
       "      <th>monetary</th>\n",
       "      <th>units</th>\n",
       "    </tr>\n",
       "    <tr>\n",
       "      <th>date</th>\n",
       "      <th></th>\n",
       "      <th></th>\n",
       "      <th></th>\n",
       "      <th></th>\n",
       "    </tr>\n",
       "  </thead>\n",
       "  <tbody>\n",
       "    <tr>\n",
       "      <th>2019-01-21</th>\n",
       "      <td>KR</td>\n",
       "      <td>702234</td>\n",
       "      <td>808.08</td>\n",
       "      <td>1</td>\n",
       "    </tr>\n",
       "    <tr>\n",
       "      <th>2019-02-11</th>\n",
       "      <td>KR</td>\n",
       "      <td>702234</td>\n",
       "      <td>1606.80</td>\n",
       "      <td>2</td>\n",
       "    </tr>\n",
       "    <tr>\n",
       "      <th>2019-02-25</th>\n",
       "      <td>KR</td>\n",
       "      <td>3618438</td>\n",
       "      <td>803.40</td>\n",
       "      <td>1</td>\n",
       "    </tr>\n",
       "    <tr>\n",
       "      <th>2019-03-04</th>\n",
       "      <td>KR</td>\n",
       "      <td>3618438</td>\n",
       "      <td>803.40</td>\n",
       "      <td>1</td>\n",
       "    </tr>\n",
       "    <tr>\n",
       "      <th>2019-03-04</th>\n",
       "      <td>KR</td>\n",
       "      <td>3618438</td>\n",
       "      <td>803.40</td>\n",
       "      <td>1</td>\n",
       "    </tr>\n",
       "  </tbody>\n",
       "</table>\n",
       "</div>"
      ],
      "text/plain": [
       "           country       id  monetary  units\n",
       "date                                        \n",
       "2019-01-21      KR   702234    808.08      1\n",
       "2019-02-11      KR   702234   1606.80      2\n",
       "2019-02-25      KR  3618438    803.40      1\n",
       "2019-03-04      KR  3618438    803.40      1\n",
       "2019-03-04      KR  3618438    803.40      1"
      ]
     },
     "execution_count": 21,
     "metadata": {},
     "output_type": "execute_result"
    }
   ],
   "source": [
    "# Putting date into the index for plotting the time series\n",
    "\n",
    "df2b = df2.set_index(\"date\")\n",
    "df2b.head()"
   ]
  },
  {
   "cell_type": "code",
   "execution_count": 22,
   "metadata": {
    "colab": {
     "base_uri": "https://localhost:8080/",
     "height": 343
    },
    "id": "1z7xzmT78Mxh",
    "outputId": "eda5e425-894b-47cc-f9a0-4bfd87f02b23"
   },
   "outputs": [
    {
     "data": {
      "image/png": "[encoded data removed]",
      "text/plain": [
       "<Figure size 1440x432 with 1 Axes>"
      ]
     },
     "metadata": {},
     "output_type": "display_data"
    }
   ],
   "source": [
    "plt.style.use('ggplot')\n",
    "plt.title('Units sold per week')\n",
    "\n",
    "plt.ylabel('units')\n",
    "plt.xlabel('date');\n",
    "\n",
    "df2b['units'].plot(figsize=(20,6), c='dodgerblue');"
   ]
  },
  {
   "cell_type": "code",
   "execution_count": 23,
   "metadata": {
    "colab": {
     "base_uri": "https://localhost:8080/",
     "height": 343
    },
    "id": "giXyE1Vc8Mps",
    "outputId": "632a7fe8-c051-4e61-ee1d-f3d4111595ac"
   },
   "outputs": [
    {
     "data": {
      "image/png": "[encoded data removed]",
      "text/plain": [
       "<Figure size 1440x432 with 1 Axes>"
      ]
     },
     "metadata": {},
     "output_type": "display_data"
    }
   ],
   "source": [
    "plt.style.use('ggplot')\n",
    "plt.title('Revenue per week')\n",
    "\n",
    "plt.ylabel('units')\n",
    "plt.xlabel('date');\n",
    "\n",
    "df2b['monetary'].plot(figsize=(20,6), c='dodgerblue');"
   ]
  },
  {
   "cell_type": "code",
   "execution_count": 24,
   "metadata": {
    "id": "3tOL1QQc8MjN"
   },
   "outputs": [],
   "source": [
    "# For greater visibility in the plots we convert the dates to monthly periods\n",
    "# and we aggregate the units and revenue of the same period\n",
    "\n",
    "df2c = df2b.to_period(\"M\")"
   ]
  },
  {
   "cell_type": "code",
   "execution_count": 25,
   "metadata": {
    "colab": {
     "base_uri": "https://localhost:8080/",
     "height": 235
    },
    "id": "0iusXD4l89aJ",
    "outputId": "2d0a834f-9661-4bdc-e133-7068cfeeac1d"
   },
   "outputs": [
    {
     "data": {
      "text/html": [
       "<div>\n",
       "<style scoped>\n",
       "    .dataframe tbody tr th:only-of-type {\n",
       "        vertical-align: middle;\n",
       "    }\n",
       "\n",
       "    .dataframe tbody tr th {\n",
       "        vertical-align: top;\n",
       "    }\n",
       "\n",
       "    .dataframe thead th {\n",
       "        text-align: right;\n",
       "    }\n",
       "</style>\n",
       "<table border=\"1\" class=\"dataframe\">\n",
       "  <thead>\n",
       "    <tr style=\"text-align: right;\">\n",
       "      <th></th>\n",
       "      <th>country</th>\n",
       "      <th>id</th>\n",
       "      <th>monetary</th>\n",
       "      <th>units</th>\n",
       "    </tr>\n",
       "    <tr>\n",
       "      <th>date</th>\n",
       "      <th></th>\n",
       "      <th></th>\n",
       "      <th></th>\n",
       "      <th></th>\n",
       "    </tr>\n",
       "  </thead>\n",
       "  <tbody>\n",
       "    <tr>\n",
       "      <th>2019-01</th>\n",
       "      <td>KR</td>\n",
       "      <td>702234</td>\n",
       "      <td>808.08</td>\n",
       "      <td>1</td>\n",
       "    </tr>\n",
       "    <tr>\n",
       "      <th>2019-02</th>\n",
       "      <td>KR</td>\n",
       "      <td>702234</td>\n",
       "      <td>1606.80</td>\n",
       "      <td>2</td>\n",
       "    </tr>\n",
       "    <tr>\n",
       "      <th>2019-02</th>\n",
       "      <td>KR</td>\n",
       "      <td>3618438</td>\n",
       "      <td>803.40</td>\n",
       "      <td>1</td>\n",
       "    </tr>\n",
       "    <tr>\n",
       "      <th>2019-03</th>\n",
       "      <td>KR</td>\n",
       "      <td>3618438</td>\n",
       "      <td>803.40</td>\n",
       "      <td>1</td>\n",
       "    </tr>\n",
       "    <tr>\n",
       "      <th>2019-03</th>\n",
       "      <td>KR</td>\n",
       "      <td>3618438</td>\n",
       "      <td>803.40</td>\n",
       "      <td>1</td>\n",
       "    </tr>\n",
       "  </tbody>\n",
       "</table>\n",
       "</div>"
      ],
      "text/plain": [
       "        country       id  monetary  units\n",
       "date                                     \n",
       "2019-01      KR   702234    808.08      1\n",
       "2019-02      KR   702234   1606.80      2\n",
       "2019-02      KR  3618438    803.40      1\n",
       "2019-03      KR  3618438    803.40      1\n",
       "2019-03      KR  3618438    803.40      1"
      ]
     },
     "execution_count": 25,
     "metadata": {},
     "output_type": "execute_result"
    }
   ],
   "source": [
    "df2c.head()"
   ]
  },
  {
   "cell_type": "code",
   "execution_count": 26,
   "metadata": {
    "colab": {
     "base_uri": "https://localhost:8080/",
     "height": 364
    },
    "id": "dF4zRcSqBLYR",
    "outputId": "43177a46-74fa-4fc7-b39a-a377054d9bc8"
   },
   "outputs": [
    {
     "data": {
      "image/png": "[encoded data removed]",
      "text/plain": [
       "<Figure size 1440x432 with 1 Axes>"
      ]
     },
     "metadata": {},
     "output_type": "display_data"
    }
   ],
   "source": [
    "plt.style.use('ggplot')\n",
    "df2c['units'].groupby('date').agg(sum).plot(figsize=(20,6), c='dodgerblue')\n",
    "\n",
    "plt.title('Units sold per month')\n",
    "\n",
    "plt.ylabel('units')\n",
    "plt.xlabel('date');"
   ]
  },
  {
   "cell_type": "code",
   "execution_count": 27,
   "metadata": {
    "colab": {
     "base_uri": "https://localhost:8080/",
     "height": 364
    },
    "id": "VkIOHaECB4pE",
    "outputId": "3635b989-198a-4e35-c8ee-4b9ad307602f"
   },
   "outputs": [
    {
     "data": {
      "image/png": "[encoded data removed]",
      "text/plain": [
       "<Figure size 1440x432 with 1 Axes>"
      ]
     },
     "metadata": {},
     "output_type": "display_data"
    }
   ],
   "source": [
    "plt.style.use('ggplot')\n",
    "df2c['monetary'].groupby('date').agg(sum).plot(figsize=(20,6), c='dodgerblue')\n",
    "\n",
    "plt.title('Revenue per month')\n",
    "\n",
    "plt.ylabel('revenue')\n",
    "plt.xlabel('date');"
   ]
  },
  {
   "cell_type": "markdown",
   "metadata": {
    "id": "eXjAtAMhdxLy"
   },
   "source": [
    "### Transform data to obtain RFM"
   ]
  },
  {
   "cell_type": "code",
   "execution_count": 28,
   "metadata": {
    "colab": {
     "base_uri": "https://localhost:8080/"
    },
    "id": "hrcHkkTSdxLy",
    "outputId": "c1acc009-6788-4972-82b3-504cbc4d73a5"
   },
   "outputs": [
    {
     "name": "stdout",
     "output_type": "stream",
     "text": [
      "Sales from 2019-01-07 00:00:00 to 2020-11-30 00:00:00\n"
     ]
    }
   ],
   "source": [
    "print('Sales from {} to {}'.format(df2['date'].min(),\n",
    "                                    df2['date'].max()))"
   ]
  },
  {
   "cell_type": "code",
   "execution_count": 29,
   "metadata": {
    "id": "HqiYHbSWdxLy"
   },
   "outputs": [],
   "source": [
    "#Let's focus on sales from last 365 days since most recent date\n",
    "\n",
    "period = 365\n",
    "\n",
    "date_N_days_ago = df2['date'].max() - timedelta(days=period)"
   ]
  },
  {
   "cell_type": "code",
   "execution_count": 30,
   "metadata": {
    "id": "nx4-70VqdxLy"
   },
   "outputs": [
    {
     "data": {
      "text/html": [
       "<div>\n",
       "<style scoped>\n",
       "    .dataframe tbody tr th:only-of-type {\n",
       "        vertical-align: middle;\n",
       "    }\n",
       "\n",
       "    .dataframe tbody tr th {\n",
       "        vertical-align: top;\n",
       "    }\n",
       "\n",
       "    .dataframe thead th {\n",
       "        text-align: right;\n",
       "    }\n",
       "</style>\n",
       "<table border=\"1\" class=\"dataframe\">\n",
       "  <thead>\n",
       "    <tr style=\"text-align: right;\">\n",
       "      <th></th>\n",
       "      <th>country</th>\n",
       "      <th>id</th>\n",
       "      <th>monetary</th>\n",
       "      <th>units</th>\n",
       "      <th>date</th>\n",
       "    </tr>\n",
       "  </thead>\n",
       "  <tbody>\n",
       "    <tr>\n",
       "      <th>0</th>\n",
       "      <td>KR</td>\n",
       "      <td>4375152</td>\n",
       "      <td>773.58</td>\n",
       "      <td>1</td>\n",
       "      <td>2019-12-16</td>\n",
       "    </tr>\n",
       "    <tr>\n",
       "      <th>1</th>\n",
       "      <td>KR</td>\n",
       "      <td>705462</td>\n",
       "      <td>337.26</td>\n",
       "      <td>1</td>\n",
       "      <td>2019-12-09</td>\n",
       "    </tr>\n",
       "    <tr>\n",
       "      <th>2</th>\n",
       "      <td>KR</td>\n",
       "      <td>705462</td>\n",
       "      <td>337.26</td>\n",
       "      <td>1</td>\n",
       "      <td>2019-12-23</td>\n",
       "    </tr>\n",
       "    <tr>\n",
       "      <th>3</th>\n",
       "      <td>KR</td>\n",
       "      <td>705462</td>\n",
       "      <td>421.56</td>\n",
       "      <td>2</td>\n",
       "      <td>2019-12-16</td>\n",
       "    </tr>\n",
       "    <tr>\n",
       "      <th>4</th>\n",
       "      <td>KR</td>\n",
       "      <td>706854</td>\n",
       "      <td>391.50</td>\n",
       "      <td>1</td>\n",
       "      <td>2019-12-09</td>\n",
       "    </tr>\n",
       "  </tbody>\n",
       "</table>\n",
       "</div>"
      ],
      "text/plain": [
       "  country       id  monetary  units       date\n",
       "0      KR  4375152    773.58      1 2019-12-16\n",
       "1      KR   705462    337.26      1 2019-12-09\n",
       "2      KR   705462    337.26      1 2019-12-23\n",
       "3      KR   705462    421.56      2 2019-12-16\n",
       "4      KR   706854    391.50      1 2019-12-09"
      ]
     },
     "execution_count": 30,
     "metadata": {},
     "output_type": "execute_result"
    }
   ],
   "source": [
    "# Remove the rows with dates older than 365 days ago\n",
    "\n",
    "df2 = df2[df2['date'] > date_N_days_ago]\n",
    "df2.reset_index(drop=True, inplace=True)\n",
    "df2.head()"
   ]
  },
  {
   "cell_type": "code",
   "execution_count": 31,
   "metadata": {
    "colab": {
     "base_uri": "https://localhost:8080/"
    },
    "id": "DoBmQt_WdxLy",
    "outputId": "58894d84-b388-4de0-b98f-b41c7e393e1e"
   },
   "outputs": [
    {
     "name": "stdout",
     "output_type": "stream",
     "text": [
      "<class 'pandas.core.frame.DataFrame'>\n",
      "RangeIndex: 124640 entries, 0 to 124639\n",
      "Data columns (total 5 columns):\n",
      " #   Column    Non-Null Count   Dtype         \n",
      "---  ------    --------------   -----         \n",
      " 0   country   124640 non-null  object        \n",
      " 1   id        124640 non-null  int64         \n",
      " 2   monetary  124640 non-null  float64       \n",
      " 3   units     124640 non-null  int64         \n",
      " 4   date      124640 non-null  datetime64[ns]\n",
      "dtypes: datetime64[ns](1), float64(1), int64(2), object(1)\n",
      "memory usage: 4.8+ MB\n"
     ]
    }
   ],
   "source": [
    "df2.info()"
   ]
  },
  {
   "cell_type": "code",
   "execution_count": 32,
   "metadata": {
    "id": "oVPHV_IzdxLy"
   },
   "outputs": [
    {
     "data": {
      "text/html": [
       "<div>\n",
       "<style scoped>\n",
       "    .dataframe tbody tr th:only-of-type {\n",
       "        vertical-align: middle;\n",
       "    }\n",
       "\n",
       "    .dataframe tbody tr th {\n",
       "        vertical-align: top;\n",
       "    }\n",
       "\n",
       "    .dataframe thead th {\n",
       "        text-align: right;\n",
       "    }\n",
       "</style>\n",
       "<table border=\"1\" class=\"dataframe\">\n",
       "  <thead>\n",
       "    <tr style=\"text-align: right;\">\n",
       "      <th></th>\n",
       "      <th>country</th>\n",
       "      <th>id</th>\n",
       "      <th>monetary</th>\n",
       "      <th>units</th>\n",
       "      <th>date</th>\n",
       "      <th>id+</th>\n",
       "    </tr>\n",
       "  </thead>\n",
       "  <tbody>\n",
       "    <tr>\n",
       "      <th>0</th>\n",
       "      <td>KR</td>\n",
       "      <td>4375152</td>\n",
       "      <td>773.58</td>\n",
       "      <td>1</td>\n",
       "      <td>2019-12-16</td>\n",
       "      <td>KR4375152</td>\n",
       "    </tr>\n",
       "    <tr>\n",
       "      <th>1</th>\n",
       "      <td>KR</td>\n",
       "      <td>705462</td>\n",
       "      <td>337.26</td>\n",
       "      <td>1</td>\n",
       "      <td>2019-12-09</td>\n",
       "      <td>KR705462</td>\n",
       "    </tr>\n",
       "    <tr>\n",
       "      <th>2</th>\n",
       "      <td>KR</td>\n",
       "      <td>705462</td>\n",
       "      <td>337.26</td>\n",
       "      <td>1</td>\n",
       "      <td>2019-12-23</td>\n",
       "      <td>KR705462</td>\n",
       "    </tr>\n",
       "    <tr>\n",
       "      <th>3</th>\n",
       "      <td>KR</td>\n",
       "      <td>705462</td>\n",
       "      <td>421.56</td>\n",
       "      <td>2</td>\n",
       "      <td>2019-12-16</td>\n",
       "      <td>KR705462</td>\n",
       "    </tr>\n",
       "    <tr>\n",
       "      <th>4</th>\n",
       "      <td>KR</td>\n",
       "      <td>706854</td>\n",
       "      <td>391.50</td>\n",
       "      <td>1</td>\n",
       "      <td>2019-12-09</td>\n",
       "      <td>KR706854</td>\n",
       "    </tr>\n",
       "  </tbody>\n",
       "</table>\n",
       "</div>"
      ],
      "text/plain": [
       "  country       id  monetary  units       date        id+\n",
       "0      KR  4375152    773.58      1 2019-12-16  KR4375152\n",
       "1      KR   705462    337.26      1 2019-12-09   KR705462\n",
       "2      KR   705462    337.26      1 2019-12-23   KR705462\n",
       "3      KR   705462    421.56      2 2019-12-16   KR705462\n",
       "4      KR   706854    391.50      1 2019-12-09   KR706854"
      ]
     },
     "execution_count": 32,
     "metadata": {},
     "output_type": "execute_result"
    }
   ],
   "source": [
    "# There are customers with the same 'id' in several countries. This causes errors in the monetary values\n",
    "# Create a unique 'id+' identifier that combines 'country code' and 'customer id'\n",
    "\n",
    "df3 = df2.copy()\n",
    "\n",
    "df3['id+'] = df3['country'].map(str) + df3['id'].map(str)\n",
    "df3.head()"
   ]
  },
  {
   "cell_type": "code",
   "execution_count": 33,
   "metadata": {
    "colab": {
     "base_uri": "https://localhost:8080/"
    },
    "id": "62vRI_-WdxLy",
    "outputId": "56f9f179-2e81-4617-c04b-8f39ddaf4e82"
   },
   "outputs": [
    {
     "data": {
      "text/plain": [
       "Timestamp('2020-12-01 00:00:00')"
      ]
     },
     "execution_count": 33,
     "metadata": {},
     "output_type": "execute_result"
    }
   ],
   "source": [
    "# We set the NOW date one day after the last sale\n",
    "\n",
    "NOW = df3['date'].max() + timedelta(days=1)\n",
    "NOW"
   ]
  },
  {
   "cell_type": "code",
   "execution_count": 34,
   "metadata": {
    "id": "uCQP5CrNdxLy"
   },
   "outputs": [
    {
     "data": {
      "text/html": [
       "<div>\n",
       "<style scoped>\n",
       "    .dataframe tbody tr th:only-of-type {\n",
       "        vertical-align: middle;\n",
       "    }\n",
       "\n",
       "    .dataframe tbody tr th {\n",
       "        vertical-align: top;\n",
       "    }\n",
       "\n",
       "    .dataframe thead th {\n",
       "        text-align: right;\n",
       "    }\n",
       "</style>\n",
       "<table border=\"1\" class=\"dataframe\">\n",
       "  <thead>\n",
       "    <tr style=\"text-align: right;\">\n",
       "      <th></th>\n",
       "      <th>country</th>\n",
       "      <th>id</th>\n",
       "      <th>monetary</th>\n",
       "      <th>units</th>\n",
       "      <th>date</th>\n",
       "      <th>id+</th>\n",
       "      <th>days_since_purchase</th>\n",
       "    </tr>\n",
       "  </thead>\n",
       "  <tbody>\n",
       "    <tr>\n",
       "      <th>0</th>\n",
       "      <td>KR</td>\n",
       "      <td>4375152</td>\n",
       "      <td>773.58</td>\n",
       "      <td>1</td>\n",
       "      <td>2019-12-16</td>\n",
       "      <td>KR4375152</td>\n",
       "      <td>351</td>\n",
       "    </tr>\n",
       "    <tr>\n",
       "      <th>1</th>\n",
       "      <td>KR</td>\n",
       "      <td>705462</td>\n",
       "      <td>337.26</td>\n",
       "      <td>1</td>\n",
       "      <td>2019-12-09</td>\n",
       "      <td>KR705462</td>\n",
       "      <td>358</td>\n",
       "    </tr>\n",
       "    <tr>\n",
       "      <th>2</th>\n",
       "      <td>KR</td>\n",
       "      <td>705462</td>\n",
       "      <td>337.26</td>\n",
       "      <td>1</td>\n",
       "      <td>2019-12-23</td>\n",
       "      <td>KR705462</td>\n",
       "      <td>344</td>\n",
       "    </tr>\n",
       "    <tr>\n",
       "      <th>3</th>\n",
       "      <td>KR</td>\n",
       "      <td>705462</td>\n",
       "      <td>421.56</td>\n",
       "      <td>2</td>\n",
       "      <td>2019-12-16</td>\n",
       "      <td>KR705462</td>\n",
       "      <td>351</td>\n",
       "    </tr>\n",
       "    <tr>\n",
       "      <th>4</th>\n",
       "      <td>KR</td>\n",
       "      <td>706854</td>\n",
       "      <td>391.50</td>\n",
       "      <td>1</td>\n",
       "      <td>2019-12-09</td>\n",
       "      <td>KR706854</td>\n",
       "      <td>358</td>\n",
       "    </tr>\n",
       "  </tbody>\n",
       "</table>\n",
       "</div>"
      ],
      "text/plain": [
       "  country       id  monetary  units       date        id+  days_since_purchase\n",
       "0      KR  4375152    773.58      1 2019-12-16  KR4375152                  351\n",
       "1      KR   705462    337.26      1 2019-12-09   KR705462                  358\n",
       "2      KR   705462    337.26      1 2019-12-23   KR705462                  344\n",
       "3      KR   705462    421.56      2 2019-12-16   KR705462                  351\n",
       "4      KR   706854    391.50      1 2019-12-09   KR706854                  358"
      ]
     },
     "execution_count": 34,
     "metadata": {},
     "output_type": "execute_result"
    }
   ],
   "source": [
    "# Add a column, 'days_since_last_purchase', with the days between purchase date and the latest date\n",
    "\n",
    "df3['days_since_purchase'] = df3['date'].apply(lambda x:(NOW - x).days)\n",
    "df3.head()"
   ]
  },
  {
   "cell_type": "code",
   "execution_count": 35,
   "metadata": {
    "colab": {
     "base_uri": "https://localhost:8080/",
     "height": 204
    },
    "id": "byFCnMIwzrj6",
    "outputId": "334eb5b6-6aed-478b-fb6a-7a710b891129"
   },
   "outputs": [
    {
     "data": {
      "text/html": [
       "<div>\n",
       "<style scoped>\n",
       "    .dataframe tbody tr th:only-of-type {\n",
       "        vertical-align: middle;\n",
       "    }\n",
       "\n",
       "    .dataframe tbody tr th {\n",
       "        vertical-align: top;\n",
       "    }\n",
       "\n",
       "    .dataframe thead th {\n",
       "        text-align: right;\n",
       "    }\n",
       "</style>\n",
       "<table border=\"1\" class=\"dataframe\">\n",
       "  <thead>\n",
       "    <tr style=\"text-align: right;\">\n",
       "      <th></th>\n",
       "      <th>country</th>\n",
       "      <th>id</th>\n",
       "      <th>monetary</th>\n",
       "      <th>units</th>\n",
       "      <th>date</th>\n",
       "      <th>id+</th>\n",
       "      <th>days_since_purchase</th>\n",
       "    </tr>\n",
       "  </thead>\n",
       "  <tbody>\n",
       "    <tr>\n",
       "      <th>4</th>\n",
       "      <td>KR</td>\n",
       "      <td>706854</td>\n",
       "      <td>391.50</td>\n",
       "      <td>1</td>\n",
       "      <td>2019-12-09</td>\n",
       "      <td>KR706854</td>\n",
       "      <td>358</td>\n",
       "    </tr>\n",
       "    <tr>\n",
       "      <th>5</th>\n",
       "      <td>KR</td>\n",
       "      <td>706854</td>\n",
       "      <td>388.68</td>\n",
       "      <td>1</td>\n",
       "      <td>2019-12-30</td>\n",
       "      <td>KR706854</td>\n",
       "      <td>337</td>\n",
       "    </tr>\n",
       "    <tr>\n",
       "      <th>14169</th>\n",
       "      <td>KR</td>\n",
       "      <td>706854</td>\n",
       "      <td>369.66</td>\n",
       "      <td>1</td>\n",
       "      <td>2020-04-06</td>\n",
       "      <td>KR706854</td>\n",
       "      <td>239</td>\n",
       "    </tr>\n",
       "    <tr>\n",
       "      <th>14192</th>\n",
       "      <td>KR</td>\n",
       "      <td>706854</td>\n",
       "      <td>374.76</td>\n",
       "      <td>1</td>\n",
       "      <td>2020-07-27</td>\n",
       "      <td>KR706854</td>\n",
       "      <td>127</td>\n",
       "    </tr>\n",
       "    <tr>\n",
       "      <th>14210</th>\n",
       "      <td>KR</td>\n",
       "      <td>706854</td>\n",
       "      <td>371.82</td>\n",
       "      <td>1</td>\n",
       "      <td>2020-11-09</td>\n",
       "      <td>KR706854</td>\n",
       "      <td>22</td>\n",
       "    </tr>\n",
       "  </tbody>\n",
       "</table>\n",
       "</div>"
      ],
      "text/plain": [
       "      country      id  monetary  units       date       id+  \\\n",
       "4          KR  706854    391.50      1 2019-12-09  KR706854   \n",
       "5          KR  706854    388.68      1 2019-12-30  KR706854   \n",
       "14169      KR  706854    369.66      1 2020-04-06  KR706854   \n",
       "14192      KR  706854    374.76      1 2020-07-27  KR706854   \n",
       "14210      KR  706854    371.82      1 2020-11-09  KR706854   \n",
       "\n",
       "       days_since_purchase  \n",
       "4                      358  \n",
       "5                      337  \n",
       "14169                  239  \n",
       "14192                  127  \n",
       "14210                   22  "
      ]
     },
     "execution_count": 35,
     "metadata": {},
     "output_type": "execute_result"
    }
   ],
   "source": [
    "df3[df3['id+']=='KR706854']"
   ]
  },
  {
   "cell_type": "code",
   "execution_count": 36,
   "metadata": {
    "id": "TZR5VWPwdxLy"
   },
   "outputs": [
    {
     "data": {
      "text/plain": [
       "{'days_since_purchase': <function __main__.<lambda>(x)>,\n",
       " 'date': <function __main__.<lambda>(x)>}"
      ]
     },
     "execution_count": 36,
     "metadata": {},
     "output_type": "execute_result"
    }
   ],
   "source": [
    "# Recency = Minimum of 'days_since_last_purchase' for each customer\n",
    "# Frequency = Total number of orders in the period for each customer\n",
    "\n",
    "aggr = {\n",
    "    'days_since_purchase': lambda x:x.min(),\n",
    "    'date': lambda x: len([d for d in x if d >= NOW - timedelta(days=period)])\n",
    "}\n",
    "aggr"
   ]
  },
  {
   "cell_type": "code",
   "execution_count": 37,
   "metadata": {
    "id": "xVi9-quwdxLy"
   },
   "outputs": [
    {
     "data": {
      "text/html": [
       "<div>\n",
       "<style scoped>\n",
       "    .dataframe tbody tr th:only-of-type {\n",
       "        vertical-align: middle;\n",
       "    }\n",
       "\n",
       "    .dataframe tbody tr th {\n",
       "        vertical-align: top;\n",
       "    }\n",
       "\n",
       "    .dataframe thead th {\n",
       "        text-align: right;\n",
       "    }\n",
       "</style>\n",
       "<table border=\"1\" class=\"dataframe\">\n",
       "  <thead>\n",
       "    <tr style=\"text-align: right;\">\n",
       "      <th></th>\n",
       "      <th>id</th>\n",
       "      <th>id+</th>\n",
       "      <th>country</th>\n",
       "      <th>recency</th>\n",
       "      <th>frequency</th>\n",
       "    </tr>\n",
       "  </thead>\n",
       "  <tbody>\n",
       "    <tr>\n",
       "      <th>0</th>\n",
       "      <td>600018</td>\n",
       "      <td>CN600018</td>\n",
       "      <td>CN</td>\n",
       "      <td>29</td>\n",
       "      <td>7</td>\n",
       "    </tr>\n",
       "    <tr>\n",
       "      <th>1</th>\n",
       "      <td>600060</td>\n",
       "      <td>CN600060</td>\n",
       "      <td>CN</td>\n",
       "      <td>155</td>\n",
       "      <td>1</td>\n",
       "    </tr>\n",
       "    <tr>\n",
       "      <th>2</th>\n",
       "      <td>600462</td>\n",
       "      <td>CN600462</td>\n",
       "      <td>CN</td>\n",
       "      <td>211</td>\n",
       "      <td>2</td>\n",
       "    </tr>\n",
       "    <tr>\n",
       "      <th>3</th>\n",
       "      <td>600888</td>\n",
       "      <td>CN600888</td>\n",
       "      <td>CN</td>\n",
       "      <td>8</td>\n",
       "      <td>3</td>\n",
       "    </tr>\n",
       "    <tr>\n",
       "      <th>4</th>\n",
       "      <td>601014</td>\n",
       "      <td>CN601014</td>\n",
       "      <td>CN</td>\n",
       "      <td>225</td>\n",
       "      <td>1</td>\n",
       "    </tr>\n",
       "    <tr>\n",
       "      <th>...</th>\n",
       "      <td>...</td>\n",
       "      <td>...</td>\n",
       "      <td>...</td>\n",
       "      <td>...</td>\n",
       "      <td>...</td>\n",
       "    </tr>\n",
       "    <tr>\n",
       "      <th>16564</th>\n",
       "      <td>241575552</td>\n",
       "      <td>IQ241575552</td>\n",
       "      <td>IQ</td>\n",
       "      <td>15</td>\n",
       "      <td>1</td>\n",
       "    </tr>\n",
       "    <tr>\n",
       "      <th>16565</th>\n",
       "      <td>241794972</td>\n",
       "      <td>IQ241794972</td>\n",
       "      <td>IQ</td>\n",
       "      <td>351</td>\n",
       "      <td>1</td>\n",
       "    </tr>\n",
       "    <tr>\n",
       "      <th>16566</th>\n",
       "      <td>241888554</td>\n",
       "      <td>IQ241888554</td>\n",
       "      <td>IQ</td>\n",
       "      <td>43</td>\n",
       "      <td>1</td>\n",
       "    </tr>\n",
       "    <tr>\n",
       "      <th>16567</th>\n",
       "      <td>241900254</td>\n",
       "      <td>IQ241900254</td>\n",
       "      <td>IQ</td>\n",
       "      <td>8</td>\n",
       "      <td>62</td>\n",
       "    </tr>\n",
       "    <tr>\n",
       "      <th>16568</th>\n",
       "      <td>241930824</td>\n",
       "      <td>IQ241930824</td>\n",
       "      <td>IQ</td>\n",
       "      <td>36</td>\n",
       "      <td>2</td>\n",
       "    </tr>\n",
       "  </tbody>\n",
       "</table>\n",
       "<p>16569 rows × 5 columns</p>\n",
       "</div>"
      ],
      "text/plain": [
       "              id          id+ country  recency  frequency\n",
       "0         600018     CN600018      CN       29          7\n",
       "1         600060     CN600060      CN      155          1\n",
       "2         600462     CN600462      CN      211          2\n",
       "3         600888     CN600888      CN        8          3\n",
       "4         601014     CN601014      CN      225          1\n",
       "...          ...          ...     ...      ...        ...\n",
       "16564  241575552  IQ241575552      IQ       15          1\n",
       "16565  241794972  IQ241794972      IQ      351          1\n",
       "16566  241888554  IQ241888554      IQ       43          1\n",
       "16567  241900254  IQ241900254      IQ        8         62\n",
       "16568  241930824  IQ241930824      IQ       36          2\n",
       "\n",
       "[16569 rows x 5 columns]"
      ]
     },
     "execution_count": 37,
     "metadata": {},
     "output_type": "execute_result"
    }
   ],
   "source": [
    "rfm = df3.groupby(['id', 'id+', 'country']).agg(aggr).reset_index()\n",
    "rfm.rename(columns={'days_since_purchase': 'recency',\n",
    "                   'date': 'frequency'},\n",
    "          inplace=True)\n",
    "rfm"
   ]
  },
  {
   "cell_type": "code",
   "execution_count": 38,
   "metadata": {
    "colab": {
     "base_uri": "https://localhost:8080/",
     "height": 390
    },
    "id": "GHS2-oxAdxLz",
    "outputId": "33c3dc12-7191-42f3-a8e5-dcb52b9158fe"
   },
   "outputs": [],
   "source": [
    "# Customers with same id can have different 'recency' and 'frequency' values per country"
   ]
  },
  {
   "cell_type": "code",
   "execution_count": 39,
   "metadata": {
    "colab": {
     "base_uri": "https://localhost:8080/"
    },
    "id": "oqtXiDvzdxLz",
    "outputId": "0c8fb0ef-576a-4e8a-9861-f3def188af06",
    "scrolled": true
   },
   "outputs": [
    {
     "data": {
      "text/plain": [
       "id+\n",
       "AF186035892       277.86\n",
       "AF1915092      250651.86\n",
       "AF1915920        2238.60\n",
       "AF1916280         612.78\n",
       "AF1917144       29793.18\n",
       "                 ...    \n",
       "VN991620         1093.86\n",
       "VN993528         1018.86\n",
       "VN993996         4037.28\n",
       "VN995010          544.32\n",
       "VN998130          384.84\n",
       "Name: monetary, Length: 16569, dtype: float64"
      ]
     },
     "execution_count": 39,
     "metadata": {},
     "output_type": "execute_result"
    }
   ],
   "source": [
    "# Check revenue of the last 365 days per customer\n",
    "\n",
    "df3[df3['date'] >= NOW - timedelta(days=period)]\\\n",
    "    .groupby('id+')['monetary'].sum()"
   ]
  },
  {
   "cell_type": "code",
   "execution_count": 40,
   "metadata": {
    "colab": {
     "base_uri": "https://localhost:8080/"
    },
    "id": "0UIQXnoddxLz",
    "outputId": "dcf4483f-4100-407a-b350-026f87463f8b"
   },
   "outputs": [
    {
     "data": {
      "text/plain": [
       "id+\n",
       "AF3790218      9706.08\n",
       "BD3790218      7267.38\n",
       "CN3790218    716199.60\n",
       "ID3790218     49154.22\n",
       "IQ3790218      1243.08\n",
       "MM3790218      7110.60\n",
       "PH3790218      1013.58\n",
       "PK3790218    211108.20\n",
       "TH3790218      1245.48\n",
       "TR3790218     16072.02\n",
       "VN3790218      3377.34\n",
       "Name: monetary, dtype: float64"
      ]
     },
     "execution_count": 40,
     "metadata": {},
     "output_type": "execute_result"
    }
   ],
   "source": [
    "# Example: getting only the monetary value for specific customer with id 3790218\n",
    "\n",
    "df3[ (df3['id'] == 3790218) & (df3['date'] >= NOW - timedelta(days=period))]\\\n",
    "    .groupby('id+')['monetary'].sum()"
   ]
  },
  {
   "cell_type": "code",
   "execution_count": 41,
   "metadata": {
    "id": "-qGxiJcpdxLz"
   },
   "outputs": [
    {
     "data": {
      "text/html": [
       "<div>\n",
       "<style scoped>\n",
       "    .dataframe tbody tr th:only-of-type {\n",
       "        vertical-align: middle;\n",
       "    }\n",
       "\n",
       "    .dataframe tbody tr th {\n",
       "        vertical-align: top;\n",
       "    }\n",
       "\n",
       "    .dataframe thead th {\n",
       "        text-align: right;\n",
       "    }\n",
       "</style>\n",
       "<table border=\"1\" class=\"dataframe\">\n",
       "  <thead>\n",
       "    <tr style=\"text-align: right;\">\n",
       "      <th></th>\n",
       "      <th>id</th>\n",
       "      <th>id+</th>\n",
       "      <th>country</th>\n",
       "      <th>recency</th>\n",
       "      <th>frequency</th>\n",
       "      <th>monetary</th>\n",
       "    </tr>\n",
       "  </thead>\n",
       "  <tbody>\n",
       "    <tr>\n",
       "      <th>0</th>\n",
       "      <td>600018</td>\n",
       "      <td>CN600018</td>\n",
       "      <td>CN</td>\n",
       "      <td>29</td>\n",
       "      <td>7</td>\n",
       "      <td>21402.78</td>\n",
       "    </tr>\n",
       "    <tr>\n",
       "      <th>1</th>\n",
       "      <td>600060</td>\n",
       "      <td>CN600060</td>\n",
       "      <td>CN</td>\n",
       "      <td>155</td>\n",
       "      <td>1</td>\n",
       "      <td>1201.14</td>\n",
       "    </tr>\n",
       "    <tr>\n",
       "      <th>2</th>\n",
       "      <td>600462</td>\n",
       "      <td>CN600462</td>\n",
       "      <td>CN</td>\n",
       "      <td>211</td>\n",
       "      <td>2</td>\n",
       "      <td>2033.64</td>\n",
       "    </tr>\n",
       "    <tr>\n",
       "      <th>3</th>\n",
       "      <td>600888</td>\n",
       "      <td>CN600888</td>\n",
       "      <td>CN</td>\n",
       "      <td>8</td>\n",
       "      <td>3</td>\n",
       "      <td>2335.80</td>\n",
       "    </tr>\n",
       "    <tr>\n",
       "      <th>4</th>\n",
       "      <td>601014</td>\n",
       "      <td>CN601014</td>\n",
       "      <td>CN</td>\n",
       "      <td>225</td>\n",
       "      <td>1</td>\n",
       "      <td>230.52</td>\n",
       "    </tr>\n",
       "  </tbody>\n",
       "</table>\n",
       "</div>"
      ],
      "text/plain": [
       "       id       id+ country  recency  frequency  monetary\n",
       "0  600018  CN600018      CN       29          7  21402.78\n",
       "1  600060  CN600060      CN      155          1   1201.14\n",
       "2  600462  CN600462      CN      211          2   2033.64\n",
       "3  600888  CN600888      CN        8          3   2335.80\n",
       "4  601014  CN601014      CN      225          1    230.52"
      ]
     },
     "execution_count": 41,
     "metadata": {},
     "output_type": "execute_result"
    }
   ],
   "source": [
    "# Add new column 'monetary' to the rfm dataframe,\n",
    "# which is the (revenue from df3 of last period per customer)\n",
    "\n",
    "rfm['monetary'] = rfm['id+']\\\n",
    "    .apply(lambda x: df3 [(df3['id+'] == x) & (df3['date'] >= NOW - timedelta(days=period))]\\\n",
    "    .groupby(['id', 'country']).sum().iloc[0,0])\n",
    "rfm.head()"
   ]
  },
  {
   "cell_type": "code",
   "execution_count": 42,
   "metadata": {
    "colab": {
     "base_uri": "https://localhost:8080/",
     "height": 80
    },
    "id": "56cInwKPdxLz",
    "outputId": "b5e6fbd5-2f76-4987-c58b-087a660bb6f2"
   },
   "outputs": [
    {
     "data": {
      "text/html": [
       "<div>\n",
       "<style scoped>\n",
       "    .dataframe tbody tr th:only-of-type {\n",
       "        vertical-align: middle;\n",
       "    }\n",
       "\n",
       "    .dataframe tbody tr th {\n",
       "        vertical-align: top;\n",
       "    }\n",
       "\n",
       "    .dataframe thead th {\n",
       "        text-align: right;\n",
       "    }\n",
       "</style>\n",
       "<table border=\"1\" class=\"dataframe\">\n",
       "  <thead>\n",
       "    <tr style=\"text-align: right;\">\n",
       "      <th></th>\n",
       "      <th>id</th>\n",
       "      <th>id+</th>\n",
       "      <th>country</th>\n",
       "      <th>recency</th>\n",
       "      <th>frequency</th>\n",
       "      <th>monetary</th>\n",
       "    </tr>\n",
       "  </thead>\n",
       "  <tbody>\n",
       "    <tr>\n",
       "      <th>173</th>\n",
       "      <td>638544</td>\n",
       "      <td>CN638544</td>\n",
       "      <td>CN</td>\n",
       "      <td>1</td>\n",
       "      <td>217</td>\n",
       "      <td>21482332.56</td>\n",
       "    </tr>\n",
       "  </tbody>\n",
       "</table>\n",
       "</div>"
      ],
      "text/plain": [
       "         id       id+ country  recency  frequency     monetary\n",
       "173  638544  CN638544      CN        1        217  21482332.56"
      ]
     },
     "execution_count": 42,
     "metadata": {},
     "output_type": "execute_result"
    }
   ],
   "source": [
    "# Checking monetary value by checking on the biggest customer\n",
    "\n",
    "rfm[rfm['monetary']==rfm['monetary'].max()]"
   ]
  },
  {
   "cell_type": "code",
   "execution_count": 43,
   "metadata": {
    "colab": {
     "base_uri": "https://localhost:8080/",
     "height": 80
    },
    "id": "zdHuOr9cdxLz",
    "outputId": "a81187d3-4e4a-43dd-9c30-d99613cdb57a"
   },
   "outputs": [
    {
     "data": {
      "text/html": [
       "<div>\n",
       "<style scoped>\n",
       "    .dataframe tbody tr th:only-of-type {\n",
       "        vertical-align: middle;\n",
       "    }\n",
       "\n",
       "    .dataframe tbody tr th {\n",
       "        vertical-align: top;\n",
       "    }\n",
       "\n",
       "    .dataframe thead th {\n",
       "        text-align: right;\n",
       "    }\n",
       "</style>\n",
       "<table border=\"1\" class=\"dataframe\">\n",
       "  <thead>\n",
       "    <tr style=\"text-align: right;\">\n",
       "      <th></th>\n",
       "      <th>id</th>\n",
       "      <th>id+</th>\n",
       "      <th>country</th>\n",
       "      <th>recency</th>\n",
       "      <th>frequency</th>\n",
       "      <th>monetary</th>\n",
       "    </tr>\n",
       "  </thead>\n",
       "  <tbody>\n",
       "    <tr>\n",
       "      <th>8290</th>\n",
       "      <td>3249114</td>\n",
       "      <td>TR3249114</td>\n",
       "      <td>TR</td>\n",
       "      <td>1</td>\n",
       "      <td>1351</td>\n",
       "      <td>2731448.04</td>\n",
       "    </tr>\n",
       "  </tbody>\n",
       "</table>\n",
       "</div>"
      ],
      "text/plain": [
       "           id        id+ country  recency  frequency    monetary\n",
       "8290  3249114  TR3249114      TR        1       1351  2731448.04"
      ]
     },
     "execution_count": 43,
     "metadata": {},
     "output_type": "execute_result"
    }
   ],
   "source": [
    "rfm[rfm['frequency']==rfm['frequency'].max()]"
   ]
  },
  {
   "cell_type": "code",
   "execution_count": 44,
   "metadata": {
    "colab": {
     "base_uri": "https://localhost:8080/",
     "height": 390
    },
    "id": "dNRr0-lidxLz",
    "outputId": "c35868a9-5067-47c6-d0e0-00c514b897f0",
    "scrolled": true
   },
   "outputs": [
    {
     "data": {
      "text/html": [
       "<div>\n",
       "<style scoped>\n",
       "    .dataframe tbody tr th:only-of-type {\n",
       "        vertical-align: middle;\n",
       "    }\n",
       "\n",
       "    .dataframe tbody tr th {\n",
       "        vertical-align: top;\n",
       "    }\n",
       "\n",
       "    .dataframe thead th {\n",
       "        text-align: right;\n",
       "    }\n",
       "</style>\n",
       "<table border=\"1\" class=\"dataframe\">\n",
       "  <thead>\n",
       "    <tr style=\"text-align: right;\">\n",
       "      <th></th>\n",
       "      <th>id</th>\n",
       "      <th>id+</th>\n",
       "      <th>country</th>\n",
       "      <th>recency</th>\n",
       "      <th>frequency</th>\n",
       "      <th>monetary</th>\n",
       "    </tr>\n",
       "  </thead>\n",
       "  <tbody>\n",
       "    <tr>\n",
       "      <th>11057</th>\n",
       "      <td>3790218</td>\n",
       "      <td>AF3790218</td>\n",
       "      <td>AF</td>\n",
       "      <td>309</td>\n",
       "      <td>1</td>\n",
       "      <td>9706.08</td>\n",
       "    </tr>\n",
       "    <tr>\n",
       "      <th>11058</th>\n",
       "      <td>3790218</td>\n",
       "      <td>BD3790218</td>\n",
       "      <td>BD</td>\n",
       "      <td>176</td>\n",
       "      <td>4</td>\n",
       "      <td>7267.38</td>\n",
       "    </tr>\n",
       "    <tr>\n",
       "      <th>11059</th>\n",
       "      <td>3790218</td>\n",
       "      <td>CN3790218</td>\n",
       "      <td>CN</td>\n",
       "      <td>1</td>\n",
       "      <td>60</td>\n",
       "      <td>716199.60</td>\n",
       "    </tr>\n",
       "    <tr>\n",
       "      <th>11060</th>\n",
       "      <td>3790218</td>\n",
       "      <td>ID3790218</td>\n",
       "      <td>ID</td>\n",
       "      <td>260</td>\n",
       "      <td>9</td>\n",
       "      <td>49154.22</td>\n",
       "    </tr>\n",
       "    <tr>\n",
       "      <th>11061</th>\n",
       "      <td>3790218</td>\n",
       "      <td>IQ3790218</td>\n",
       "      <td>IQ</td>\n",
       "      <td>176</td>\n",
       "      <td>1</td>\n",
       "      <td>1243.08</td>\n",
       "    </tr>\n",
       "    <tr>\n",
       "      <th>11062</th>\n",
       "      <td>3790218</td>\n",
       "      <td>MM3790218</td>\n",
       "      <td>MM</td>\n",
       "      <td>183</td>\n",
       "      <td>3</td>\n",
       "      <td>7110.60</td>\n",
       "    </tr>\n",
       "    <tr>\n",
       "      <th>11063</th>\n",
       "      <td>3790218</td>\n",
       "      <td>PH3790218</td>\n",
       "      <td>PH</td>\n",
       "      <td>127</td>\n",
       "      <td>3</td>\n",
       "      <td>1013.58</td>\n",
       "    </tr>\n",
       "    <tr>\n",
       "      <th>11064</th>\n",
       "      <td>3790218</td>\n",
       "      <td>PK3790218</td>\n",
       "      <td>PK</td>\n",
       "      <td>43</td>\n",
       "      <td>5</td>\n",
       "      <td>211108.20</td>\n",
       "    </tr>\n",
       "    <tr>\n",
       "      <th>11065</th>\n",
       "      <td>3790218</td>\n",
       "      <td>TH3790218</td>\n",
       "      <td>TH</td>\n",
       "      <td>295</td>\n",
       "      <td>1</td>\n",
       "      <td>1245.48</td>\n",
       "    </tr>\n",
       "    <tr>\n",
       "      <th>11066</th>\n",
       "      <td>3790218</td>\n",
       "      <td>TR3790218</td>\n",
       "      <td>TR</td>\n",
       "      <td>29</td>\n",
       "      <td>10</td>\n",
       "      <td>16072.02</td>\n",
       "    </tr>\n",
       "    <tr>\n",
       "      <th>11067</th>\n",
       "      <td>3790218</td>\n",
       "      <td>VN3790218</td>\n",
       "      <td>VN</td>\n",
       "      <td>302</td>\n",
       "      <td>1</td>\n",
       "      <td>3377.34</td>\n",
       "    </tr>\n",
       "  </tbody>\n",
       "</table>\n",
       "</div>"
      ],
      "text/plain": [
       "            id        id+ country  recency  frequency   monetary\n",
       "11057  3790218  AF3790218      AF      309          1    9706.08\n",
       "11058  3790218  BD3790218      BD      176          4    7267.38\n",
       "11059  3790218  CN3790218      CN        1         60  716199.60\n",
       "11060  3790218  ID3790218      ID      260          9   49154.22\n",
       "11061  3790218  IQ3790218      IQ      176          1    1243.08\n",
       "11062  3790218  MM3790218      MM      183          3    7110.60\n",
       "11063  3790218  PH3790218      PH      127          3    1013.58\n",
       "11064  3790218  PK3790218      PK       43          5  211108.20\n",
       "11065  3790218  TH3790218      TH      295          1    1245.48\n",
       "11066  3790218  TR3790218      TR       29         10   16072.02\n",
       "11067  3790218  VN3790218      VN      302          1    3377.34"
      ]
     },
     "execution_count": 44,
     "metadata": {},
     "output_type": "execute_result"
    }
   ],
   "source": [
    "# Check if customers with id='3790218' get a different monetary value per country\n",
    "\n",
    "rfm[rfm['id']==3790218]"
   ]
  },
  {
   "cell_type": "code",
   "execution_count": 45,
   "metadata": {
    "id": "xaEVEgNudxLz"
   },
   "outputs": [],
   "source": [
    "# Drop 'id+' column \n",
    "\n",
    "rfm.drop(['id+'], axis=1, inplace=True)"
   ]
  },
  {
   "cell_type": "markdown",
   "metadata": {
    "id": "6c0RhcucdxLz"
   },
   "source": [
    "### Calculate the R, F and M scores"
   ]
  },
  {
   "cell_type": "code",
   "execution_count": 46,
   "metadata": {
    "colab": {
     "base_uri": "https://localhost:8080/"
    },
    "id": "KdO2AfoKdxLz",
    "outputId": "c4c70150-869d-4d82-907a-a350c775cf94"
   },
   "outputs": [
    {
     "data": {
      "text/plain": [
       "{'recency': {0.2: 15.0, 0.4: 50.0, 0.6: 120.0, 0.8: 239.0},\n",
       " 'frequency': {0.2: 1.0, 0.4: 2.0, 0.6: 4.0, 0.8: 9.0},\n",
       " 'monetary': {0.2: 967.5,\n",
       "  0.4: 2212.2,\n",
       "  0.6: 4852.548000000001,\n",
       "  0.8: 13957.500000000004}}"
      ]
     },
     "execution_count": 46,
     "metadata": {},
     "output_type": "execute_result"
    }
   ],
   "source": [
    "# Assign a rate between 1 and 5 depending on recency, monetary and frequency parameters\n",
    "# Using the quintiles method, dividing every feature on groups that contain 20 % of the samples\n",
    "\n",
    "quintiles = rfm[['recency', 'frequency', 'monetary']].quantile([.2, .4, .6, .8]).to_dict()\n",
    "quintiles"
   ]
  },
  {
   "cell_type": "code",
   "execution_count": 47,
   "metadata": {
    "id": "mesTzgG6dxLz"
   },
   "outputs": [],
   "source": [
    "# Assigning scores from 1 to 5\n",
    "# Lower values are better for 'recency'\n",
    "\n",
    "def r_score(x):\n",
    "    if x <= quintiles['recency'][.2]:\n",
    "        return 5\n",
    "    elif x <= quintiles['recency'][.4]:\n",
    "        return 4\n",
    "    elif x <= quintiles['recency'][.6]:\n",
    "        return 3\n",
    "    elif x <= quintiles['recency'][.8]:\n",
    "        return 2\n",
    "    else:\n",
    "        return 1"
   ]
  },
  {
   "cell_type": "code",
   "execution_count": 48,
   "metadata": {
    "id": "YQOMkJPYdxLz"
   },
   "outputs": [],
   "source": [
    "# Higher values are better for 'frequency' and 'monetary'\n",
    "\n",
    "def fm_score(x, c):\n",
    "    if x <= quintiles[c][.2]:\n",
    "        return 1\n",
    "    elif x <= quintiles[c][.4]:\n",
    "        return 2\n",
    "    elif x <= quintiles[c][.6]:\n",
    "        return 3\n",
    "    elif x <= quintiles[c][.8]:\n",
    "        return 4\n",
    "    else:\n",
    "        return 5"
   ]
  },
  {
   "cell_type": "code",
   "execution_count": 49,
   "metadata": {
    "id": "7Z6xzJLHdxLz"
   },
   "outputs": [
    {
     "data": {
      "text/html": [
       "<div>\n",
       "<style scoped>\n",
       "    .dataframe tbody tr th:only-of-type {\n",
       "        vertical-align: middle;\n",
       "    }\n",
       "\n",
       "    .dataframe tbody tr th {\n",
       "        vertical-align: top;\n",
       "    }\n",
       "\n",
       "    .dataframe thead th {\n",
       "        text-align: right;\n",
       "    }\n",
       "</style>\n",
       "<table border=\"1\" class=\"dataframe\">\n",
       "  <thead>\n",
       "    <tr style=\"text-align: right;\">\n",
       "      <th></th>\n",
       "      <th>id</th>\n",
       "      <th>country</th>\n",
       "      <th>recency</th>\n",
       "      <th>frequency</th>\n",
       "      <th>monetary</th>\n",
       "      <th>r</th>\n",
       "      <th>f</th>\n",
       "      <th>m</th>\n",
       "    </tr>\n",
       "  </thead>\n",
       "  <tbody>\n",
       "    <tr>\n",
       "      <th>0</th>\n",
       "      <td>600018</td>\n",
       "      <td>CN</td>\n",
       "      <td>29</td>\n",
       "      <td>7</td>\n",
       "      <td>21402.78</td>\n",
       "      <td>4</td>\n",
       "      <td>4</td>\n",
       "      <td>5</td>\n",
       "    </tr>\n",
       "    <tr>\n",
       "      <th>1</th>\n",
       "      <td>600060</td>\n",
       "      <td>CN</td>\n",
       "      <td>155</td>\n",
       "      <td>1</td>\n",
       "      <td>1201.14</td>\n",
       "      <td>2</td>\n",
       "      <td>1</td>\n",
       "      <td>2</td>\n",
       "    </tr>\n",
       "    <tr>\n",
       "      <th>2</th>\n",
       "      <td>600462</td>\n",
       "      <td>CN</td>\n",
       "      <td>211</td>\n",
       "      <td>2</td>\n",
       "      <td>2033.64</td>\n",
       "      <td>2</td>\n",
       "      <td>2</td>\n",
       "      <td>2</td>\n",
       "    </tr>\n",
       "    <tr>\n",
       "      <th>3</th>\n",
       "      <td>600888</td>\n",
       "      <td>CN</td>\n",
       "      <td>8</td>\n",
       "      <td>3</td>\n",
       "      <td>2335.80</td>\n",
       "      <td>5</td>\n",
       "      <td>3</td>\n",
       "      <td>3</td>\n",
       "    </tr>\n",
       "    <tr>\n",
       "      <th>4</th>\n",
       "      <td>601014</td>\n",
       "      <td>CN</td>\n",
       "      <td>225</td>\n",
       "      <td>1</td>\n",
       "      <td>230.52</td>\n",
       "      <td>2</td>\n",
       "      <td>1</td>\n",
       "      <td>1</td>\n",
       "    </tr>\n",
       "  </tbody>\n",
       "</table>\n",
       "</div>"
      ],
      "text/plain": [
       "       id country  recency  frequency  monetary  r  f  m\n",
       "0  600018      CN       29          7  21402.78  4  4  5\n",
       "1  600060      CN      155          1   1201.14  2  1  2\n",
       "2  600462      CN      211          2   2033.64  2  2  2\n",
       "3  600888      CN        8          3   2335.80  5  3  3\n",
       "4  601014      CN      225          1    230.52  2  1  1"
      ]
     },
     "execution_count": 49,
     "metadata": {},
     "output_type": "execute_result"
    }
   ],
   "source": [
    "# Assign R, F and M scores to each customer\n",
    "\n",
    "rfm['r'] = rfm['recency'].apply(lambda x: r_score(x))\n",
    "rfm['f'] = rfm['frequency'].apply(lambda x: fm_score(x, 'frequency'))\n",
    "rfm['m'] = rfm['monetary'].apply(lambda x: fm_score(x, 'monetary'))\n",
    "\n",
    "rfm.head()"
   ]
  },
  {
   "cell_type": "code",
   "execution_count": 50,
   "metadata": {
    "colab": {
     "base_uri": "https://localhost:8080/",
     "height": 204
    },
    "id": "ju7kft3GdxLz",
    "outputId": "c26bc26b-2ed0-4366-a9a9-86bab947da77",
    "scrolled": true
   },
   "outputs": [
    {
     "data": {
      "text/html": [
       "<div>\n",
       "<style scoped>\n",
       "    .dataframe tbody tr th:only-of-type {\n",
       "        vertical-align: middle;\n",
       "    }\n",
       "\n",
       "    .dataframe tbody tr th {\n",
       "        vertical-align: top;\n",
       "    }\n",
       "\n",
       "    .dataframe thead th {\n",
       "        text-align: right;\n",
       "    }\n",
       "</style>\n",
       "<table border=\"1\" class=\"dataframe\">\n",
       "  <thead>\n",
       "    <tr style=\"text-align: right;\">\n",
       "      <th></th>\n",
       "      <th>id</th>\n",
       "      <th>country</th>\n",
       "      <th>recency</th>\n",
       "      <th>frequency</th>\n",
       "      <th>monetary</th>\n",
       "      <th>r</th>\n",
       "      <th>f</th>\n",
       "      <th>m</th>\n",
       "      <th>rfm_score</th>\n",
       "    </tr>\n",
       "  </thead>\n",
       "  <tbody>\n",
       "    <tr>\n",
       "      <th>0</th>\n",
       "      <td>600018</td>\n",
       "      <td>CN</td>\n",
       "      <td>29</td>\n",
       "      <td>7</td>\n",
       "      <td>21402.78</td>\n",
       "      <td>4</td>\n",
       "      <td>4</td>\n",
       "      <td>5</td>\n",
       "      <td>445</td>\n",
       "    </tr>\n",
       "    <tr>\n",
       "      <th>1</th>\n",
       "      <td>600060</td>\n",
       "      <td>CN</td>\n",
       "      <td>155</td>\n",
       "      <td>1</td>\n",
       "      <td>1201.14</td>\n",
       "      <td>2</td>\n",
       "      <td>1</td>\n",
       "      <td>2</td>\n",
       "      <td>212</td>\n",
       "    </tr>\n",
       "    <tr>\n",
       "      <th>2</th>\n",
       "      <td>600462</td>\n",
       "      <td>CN</td>\n",
       "      <td>211</td>\n",
       "      <td>2</td>\n",
       "      <td>2033.64</td>\n",
       "      <td>2</td>\n",
       "      <td>2</td>\n",
       "      <td>2</td>\n",
       "      <td>222</td>\n",
       "    </tr>\n",
       "    <tr>\n",
       "      <th>3</th>\n",
       "      <td>600888</td>\n",
       "      <td>CN</td>\n",
       "      <td>8</td>\n",
       "      <td>3</td>\n",
       "      <td>2335.80</td>\n",
       "      <td>5</td>\n",
       "      <td>3</td>\n",
       "      <td>3</td>\n",
       "      <td>533</td>\n",
       "    </tr>\n",
       "    <tr>\n",
       "      <th>4</th>\n",
       "      <td>601014</td>\n",
       "      <td>CN</td>\n",
       "      <td>225</td>\n",
       "      <td>1</td>\n",
       "      <td>230.52</td>\n",
       "      <td>2</td>\n",
       "      <td>1</td>\n",
       "      <td>1</td>\n",
       "      <td>211</td>\n",
       "    </tr>\n",
       "  </tbody>\n",
       "</table>\n",
       "</div>"
      ],
      "text/plain": [
       "       id country  recency  frequency  monetary  r  f  m rfm_score\n",
       "0  600018      CN       29          7  21402.78  4  4  5       445\n",
       "1  600060      CN      155          1   1201.14  2  1  2       212\n",
       "2  600462      CN      211          2   2033.64  2  2  2       222\n",
       "3  600888      CN        8          3   2335.80  5  3  3       533\n",
       "4  601014      CN      225          1    230.52  2  1  1       211"
      ]
     },
     "execution_count": 50,
     "metadata": {},
     "output_type": "execute_result"
    }
   ],
   "source": [
    "# Combine R, F and M scores to create a unique 'RFM' score\n",
    "\n",
    "rfm['rfm_score'] = rfm['r'].map(str) + rfm['f'].map(str) + rfm['m'].map(str)\n",
    "rfm.head()"
   ]
  },
  {
   "cell_type": "code",
   "execution_count": 51,
   "metadata": {
    "id": "gotetdOBdxL0"
   },
   "outputs": [],
   "source": [
    "# With this 'RFM' scores we would have 125 segments of customers\n",
    "# To make a more simple segment map of 11 segments, we combine f and m scores, rounding them down\n",
    "# fm = (f+m)/2"
   ]
  },
  {
   "cell_type": "code",
   "execution_count": 52,
   "metadata": {
    "id": "Th4epxMZdxL0"
   },
   "outputs": [],
   "source": [
    "# Define 'truncate' function to remove decimal places\n",
    "\n",
    "def truncate(x):\n",
    "    return math.trunc(x)"
   ]
  },
  {
   "cell_type": "code",
   "execution_count": 53,
   "metadata": {
    "id": "14Wz6XxndxL0"
   },
   "outputs": [
    {
     "data": {
      "text/html": [
       "<div>\n",
       "<style scoped>\n",
       "    .dataframe tbody tr th:only-of-type {\n",
       "        vertical-align: middle;\n",
       "    }\n",
       "\n",
       "    .dataframe tbody tr th {\n",
       "        vertical-align: top;\n",
       "    }\n",
       "\n",
       "    .dataframe thead th {\n",
       "        text-align: right;\n",
       "    }\n",
       "</style>\n",
       "<table border=\"1\" class=\"dataframe\">\n",
       "  <thead>\n",
       "    <tr style=\"text-align: right;\">\n",
       "      <th></th>\n",
       "      <th>id</th>\n",
       "      <th>country</th>\n",
       "      <th>recency</th>\n",
       "      <th>frequency</th>\n",
       "      <th>monetary</th>\n",
       "      <th>r</th>\n",
       "      <th>f</th>\n",
       "      <th>m</th>\n",
       "      <th>rfm_score</th>\n",
       "      <th>fm</th>\n",
       "    </tr>\n",
       "  </thead>\n",
       "  <tbody>\n",
       "    <tr>\n",
       "      <th>0</th>\n",
       "      <td>600018</td>\n",
       "      <td>CN</td>\n",
       "      <td>29</td>\n",
       "      <td>7</td>\n",
       "      <td>21402.78</td>\n",
       "      <td>4</td>\n",
       "      <td>4</td>\n",
       "      <td>5</td>\n",
       "      <td>445</td>\n",
       "      <td>4</td>\n",
       "    </tr>\n",
       "    <tr>\n",
       "      <th>1</th>\n",
       "      <td>600060</td>\n",
       "      <td>CN</td>\n",
       "      <td>155</td>\n",
       "      <td>1</td>\n",
       "      <td>1201.14</td>\n",
       "      <td>2</td>\n",
       "      <td>1</td>\n",
       "      <td>2</td>\n",
       "      <td>212</td>\n",
       "      <td>1</td>\n",
       "    </tr>\n",
       "    <tr>\n",
       "      <th>2</th>\n",
       "      <td>600462</td>\n",
       "      <td>CN</td>\n",
       "      <td>211</td>\n",
       "      <td>2</td>\n",
       "      <td>2033.64</td>\n",
       "      <td>2</td>\n",
       "      <td>2</td>\n",
       "      <td>2</td>\n",
       "      <td>222</td>\n",
       "      <td>2</td>\n",
       "    </tr>\n",
       "    <tr>\n",
       "      <th>3</th>\n",
       "      <td>600888</td>\n",
       "      <td>CN</td>\n",
       "      <td>8</td>\n",
       "      <td>3</td>\n",
       "      <td>2335.80</td>\n",
       "      <td>5</td>\n",
       "      <td>3</td>\n",
       "      <td>3</td>\n",
       "      <td>533</td>\n",
       "      <td>3</td>\n",
       "    </tr>\n",
       "    <tr>\n",
       "      <th>4</th>\n",
       "      <td>601014</td>\n",
       "      <td>CN</td>\n",
       "      <td>225</td>\n",
       "      <td>1</td>\n",
       "      <td>230.52</td>\n",
       "      <td>2</td>\n",
       "      <td>1</td>\n",
       "      <td>1</td>\n",
       "      <td>211</td>\n",
       "      <td>1</td>\n",
       "    </tr>\n",
       "  </tbody>\n",
       "</table>\n",
       "</div>"
      ],
      "text/plain": [
       "       id country  recency  frequency  monetary  r  f  m rfm_score  fm\n",
       "0  600018      CN       29          7  21402.78  4  4  5       445   4\n",
       "1  600060      CN      155          1   1201.14  2  1  2       212   1\n",
       "2  600462      CN      211          2   2033.64  2  2  2       222   2\n",
       "3  600888      CN        8          3   2335.80  5  3  3       533   3\n",
       "4  601014      CN      225          1    230.52  2  1  1       211   1"
      ]
     },
     "execution_count": 53,
     "metadata": {},
     "output_type": "execute_result"
    }
   ],
   "source": [
    "rfm['fm'] = ((rfm['f'] + rfm['m'])/2).apply(lambda x: truncate(x))\n",
    "rfm.head()"
   ]
  },
  {
   "cell_type": "markdown",
   "metadata": {
    "id": "YHaw_3YadxL0"
   },
   "source": [
    "### Segment\tDescription\n",
    "* **Champions:**\tBought recently, buy often and spend the most.\n",
    "* **Loyal Customers:**\tBuy on a regular basis. Responsive to promotions.\n",
    "* **Potential Loyalists:**\tRecent customers with average frequency.\n",
    "* **Recent Customers:**\tBought most recently, but not often.\n",
    "* **Promising Customers:**\tRecent shoppers, but haven’t spent much.\n",
    "* **Customers Needing Attention:**\tAbove average recency, frequency and monetary values. May not have bought very recently though.\n",
    "* **About To Sleep:**\tBelow average recency and frequency. Will lose them if not reactivated.\n",
    "* **At Risk:**\tPurchased often but a long time ago. Need to bring them back!\n",
    "* **Can’t Lose Them:**\tUsed to purchase frequently but haven’t returned for a long time.\n",
    "* **Hibernating:**\tLast purchase was long back and low number of orders.\n",
    "* **Lost:** Purchased long time ago and never came back."
   ]
  },
  {
   "cell_type": "code",
   "execution_count": 54,
   "metadata": {
    "colab": {
     "base_uri": "https://localhost:8080/",
     "height": 204
    },
    "id": "kdM6u7iadxL0",
    "outputId": "93d3c36a-4d88-4b9d-a7d4-ef33121224ae"
   },
   "outputs": [
    {
     "data": {
      "text/html": [
       "<div>\n",
       "<style scoped>\n",
       "    .dataframe tbody tr th:only-of-type {\n",
       "        vertical-align: middle;\n",
       "    }\n",
       "\n",
       "    .dataframe tbody tr th {\n",
       "        vertical-align: top;\n",
       "    }\n",
       "\n",
       "    .dataframe thead th {\n",
       "        text-align: right;\n",
       "    }\n",
       "</style>\n",
       "<table border=\"1\" class=\"dataframe\">\n",
       "  <thead>\n",
       "    <tr style=\"text-align: right;\">\n",
       "      <th></th>\n",
       "      <th>id</th>\n",
       "      <th>country</th>\n",
       "      <th>recency</th>\n",
       "      <th>frequency</th>\n",
       "      <th>monetary</th>\n",
       "      <th>r</th>\n",
       "      <th>f</th>\n",
       "      <th>m</th>\n",
       "      <th>rfm_score</th>\n",
       "      <th>fm</th>\n",
       "      <th>segment</th>\n",
       "    </tr>\n",
       "  </thead>\n",
       "  <tbody>\n",
       "    <tr>\n",
       "      <th>0</th>\n",
       "      <td>600018</td>\n",
       "      <td>CN</td>\n",
       "      <td>29</td>\n",
       "      <td>7</td>\n",
       "      <td>21402.78</td>\n",
       "      <td>4</td>\n",
       "      <td>4</td>\n",
       "      <td>5</td>\n",
       "      <td>445</td>\n",
       "      <td>4</td>\n",
       "      <td>loyal customers</td>\n",
       "    </tr>\n",
       "    <tr>\n",
       "      <th>1</th>\n",
       "      <td>600060</td>\n",
       "      <td>CN</td>\n",
       "      <td>155</td>\n",
       "      <td>1</td>\n",
       "      <td>1201.14</td>\n",
       "      <td>2</td>\n",
       "      <td>1</td>\n",
       "      <td>2</td>\n",
       "      <td>212</td>\n",
       "      <td>1</td>\n",
       "      <td>lost</td>\n",
       "    </tr>\n",
       "    <tr>\n",
       "      <th>2</th>\n",
       "      <td>600462</td>\n",
       "      <td>CN</td>\n",
       "      <td>211</td>\n",
       "      <td>2</td>\n",
       "      <td>2033.64</td>\n",
       "      <td>2</td>\n",
       "      <td>2</td>\n",
       "      <td>2</td>\n",
       "      <td>222</td>\n",
       "      <td>2</td>\n",
       "      <td>hibernating</td>\n",
       "    </tr>\n",
       "    <tr>\n",
       "      <th>3</th>\n",
       "      <td>600888</td>\n",
       "      <td>CN</td>\n",
       "      <td>8</td>\n",
       "      <td>3</td>\n",
       "      <td>2335.80</td>\n",
       "      <td>5</td>\n",
       "      <td>3</td>\n",
       "      <td>3</td>\n",
       "      <td>533</td>\n",
       "      <td>3</td>\n",
       "      <td>potential loyalists</td>\n",
       "    </tr>\n",
       "    <tr>\n",
       "      <th>4</th>\n",
       "      <td>601014</td>\n",
       "      <td>CN</td>\n",
       "      <td>225</td>\n",
       "      <td>1</td>\n",
       "      <td>230.52</td>\n",
       "      <td>2</td>\n",
       "      <td>1</td>\n",
       "      <td>1</td>\n",
       "      <td>211</td>\n",
       "      <td>1</td>\n",
       "      <td>lost</td>\n",
       "    </tr>\n",
       "  </tbody>\n",
       "</table>\n",
       "</div>"
      ],
      "text/plain": [
       "       id country  recency  frequency  monetary  r  f  m rfm_score  fm  \\\n",
       "0  600018      CN       29          7  21402.78  4  4  5       445   4   \n",
       "1  600060      CN      155          1   1201.14  2  1  2       212   1   \n",
       "2  600462      CN      211          2   2033.64  2  2  2       222   2   \n",
       "3  600888      CN        8          3   2335.80  5  3  3       533   3   \n",
       "4  601014      CN      225          1    230.52  2  1  1       211   1   \n",
       "\n",
       "               segment  \n",
       "0      loyal customers  \n",
       "1                 lost  \n",
       "2          hibernating  \n",
       "3  potential loyalists  \n",
       "4                 lost  "
      ]
     },
     "execution_count": 54,
     "metadata": {},
     "output_type": "execute_result"
    }
   ],
   "source": [
    "# Create a segment map of only 11 segments based on only two scores: 'r' and 'fm'\n",
    "\n",
    "segment_map = {\n",
    "    r'22': 'hibernating',\n",
    "    r'[1-2][1-2]': 'lost',\n",
    "    r'15': 'can\\'t lose',\n",
    "    r'[1-2][3-5]': 'at risk',\n",
    "    r'3[1-2]': 'about to sleep',\n",
    "    r'33': 'need attention',\n",
    "    r'55': 'champions',\n",
    "    r'[3-5][4-5]': 'loyal customers',\n",
    "    r'41': 'promising',\n",
    "    r'51': 'new customers',\n",
    "    r'[4-5][2-3]': 'potential loyalists'\n",
    "}\n",
    "\n",
    "rfm['segment'] = rfm['r'].map(str) + rfm['fm'].map(str)\n",
    "rfm['segment'] = rfm['segment'].replace(segment_map, regex=True)\n",
    "\n",
    "rfm.head()"
   ]
  },
  {
   "cell_type": "code",
   "execution_count": 55,
   "metadata": {
    "colab": {
     "base_uri": "https://localhost:8080/"
    },
    "id": "eQzgj9fMdxL0",
    "outputId": "23dd5719-d3c2-4b7a-9c7a-352c79c0d741"
   },
   "outputs": [
    {
     "data": {
      "text/plain": [
       "id           0\n",
       "country      0\n",
       "recency      0\n",
       "frequency    0\n",
       "monetary     0\n",
       "r            0\n",
       "f            0\n",
       "m            0\n",
       "rfm_score    0\n",
       "fm           0\n",
       "segment      0\n",
       "dtype: int64"
      ]
     },
     "execution_count": 55,
     "metadata": {},
     "output_type": "execute_result"
    }
   ],
   "source": [
    "# Check for null values\n",
    "\n",
    "rfm.isnull().sum()"
   ]
  },
  {
   "cell_type": "markdown",
   "metadata": {
    "id": "dcog_U9DdxL0"
   },
   "source": [
    "### Exploring the customers segments"
   ]
  },
  {
   "cell_type": "code",
   "execution_count": 56,
   "metadata": {
    "colab": {
     "base_uri": "https://localhost:8080/"
    },
    "id": "e_TFIrzSdxL0",
    "outputId": "56d99b84-4352-4769-c330-7ab62342fb42"
   },
   "outputs": [
    {
     "data": {
      "text/plain": [
       "array(['loyal customers', 'lost', 'hibernating', 'potential loyalists',\n",
       "       'new customers', 'need attention', 'at risk', 'champions',\n",
       "       'about to sleep', 'promising', \"can't lose\"], dtype=object)"
      ]
     },
     "execution_count": 56,
     "metadata": {},
     "output_type": "execute_result"
    }
   ],
   "source": [
    "rfm['segment'].unique()"
   ]
  },
  {
   "cell_type": "code",
   "execution_count": 57,
   "metadata": {
    "colab": {
     "base_uri": "https://localhost:8080/",
     "height": 390
    },
    "id": "YE58OitYdxL0",
    "outputId": "bbcdd72f-6bda-4fbb-8ae1-e44f98d4a6b7"
   },
   "outputs": [
    {
     "data": {
      "text/html": [
       "<div>\n",
       "<style scoped>\n",
       "    .dataframe tbody tr th:only-of-type {\n",
       "        vertical-align: middle;\n",
       "    }\n",
       "\n",
       "    .dataframe tbody tr th {\n",
       "        vertical-align: top;\n",
       "    }\n",
       "\n",
       "    .dataframe thead th {\n",
       "        text-align: right;\n",
       "    }\n",
       "</style>\n",
       "<table border=\"1\" class=\"dataframe\">\n",
       "  <thead>\n",
       "    <tr style=\"text-align: right;\">\n",
       "      <th></th>\n",
       "      <th>id</th>\n",
       "      <th>country</th>\n",
       "      <th>recency</th>\n",
       "      <th>frequency</th>\n",
       "      <th>monetary</th>\n",
       "      <th>r</th>\n",
       "      <th>f</th>\n",
       "      <th>m</th>\n",
       "      <th>rfm_score</th>\n",
       "      <th>fm</th>\n",
       "      <th>segment</th>\n",
       "    </tr>\n",
       "  </thead>\n",
       "  <tbody>\n",
       "    <tr>\n",
       "      <th>13028</th>\n",
       "      <td>4096386</td>\n",
       "      <td>JP</td>\n",
       "      <td>260</td>\n",
       "      <td>105</td>\n",
       "      <td>220267.86</td>\n",
       "      <td>1</td>\n",
       "      <td>5</td>\n",
       "      <td>5</td>\n",
       "      <td>155</td>\n",
       "      <td>5</td>\n",
       "      <td>can't lose</td>\n",
       "    </tr>\n",
       "    <tr>\n",
       "      <th>3502</th>\n",
       "      <td>2443284</td>\n",
       "      <td>IN</td>\n",
       "      <td>246</td>\n",
       "      <td>10</td>\n",
       "      <td>102208.02</td>\n",
       "      <td>1</td>\n",
       "      <td>5</td>\n",
       "      <td>5</td>\n",
       "      <td>155</td>\n",
       "      <td>5</td>\n",
       "      <td>can't lose</td>\n",
       "    </tr>\n",
       "    <tr>\n",
       "      <th>14174</th>\n",
       "      <td>4262646</td>\n",
       "      <td>IN</td>\n",
       "      <td>316</td>\n",
       "      <td>10</td>\n",
       "      <td>91909.44</td>\n",
       "      <td>1</td>\n",
       "      <td>5</td>\n",
       "      <td>5</td>\n",
       "      <td>155</td>\n",
       "      <td>5</td>\n",
       "      <td>can't lose</td>\n",
       "    </tr>\n",
       "    <tr>\n",
       "      <th>2435</th>\n",
       "      <td>1803672</td>\n",
       "      <td>IN</td>\n",
       "      <td>267</td>\n",
       "      <td>12</td>\n",
       "      <td>70506.96</td>\n",
       "      <td>1</td>\n",
       "      <td>5</td>\n",
       "      <td>5</td>\n",
       "      <td>155</td>\n",
       "      <td>5</td>\n",
       "      <td>can't lose</td>\n",
       "    </tr>\n",
       "    <tr>\n",
       "      <th>13254</th>\n",
       "      <td>4132968</td>\n",
       "      <td>VN</td>\n",
       "      <td>253</td>\n",
       "      <td>26</td>\n",
       "      <td>42535.14</td>\n",
       "      <td>1</td>\n",
       "      <td>5</td>\n",
       "      <td>5</td>\n",
       "      <td>155</td>\n",
       "      <td>5</td>\n",
       "      <td>can't lose</td>\n",
       "    </tr>\n",
       "    <tr>\n",
       "      <th>11222</th>\n",
       "      <td>3815274</td>\n",
       "      <td>IN</td>\n",
       "      <td>267</td>\n",
       "      <td>11</td>\n",
       "      <td>37968.72</td>\n",
       "      <td>1</td>\n",
       "      <td>5</td>\n",
       "      <td>5</td>\n",
       "      <td>155</td>\n",
       "      <td>5</td>\n",
       "      <td>can't lose</td>\n",
       "    </tr>\n",
       "    <tr>\n",
       "      <th>1458</th>\n",
       "      <td>1031454</td>\n",
       "      <td>PH</td>\n",
       "      <td>267</td>\n",
       "      <td>23</td>\n",
       "      <td>31833.30</td>\n",
       "      <td>1</td>\n",
       "      <td>5</td>\n",
       "      <td>5</td>\n",
       "      <td>155</td>\n",
       "      <td>5</td>\n",
       "      <td>can't lose</td>\n",
       "    </tr>\n",
       "    <tr>\n",
       "      <th>5437</th>\n",
       "      <td>2809158</td>\n",
       "      <td>IN</td>\n",
       "      <td>274</td>\n",
       "      <td>12</td>\n",
       "      <td>27150.12</td>\n",
       "      <td>1</td>\n",
       "      <td>5</td>\n",
       "      <td>5</td>\n",
       "      <td>155</td>\n",
       "      <td>5</td>\n",
       "      <td>can't lose</td>\n",
       "    </tr>\n",
       "    <tr>\n",
       "      <th>14644</th>\n",
       "      <td>4326906</td>\n",
       "      <td>IN</td>\n",
       "      <td>337</td>\n",
       "      <td>11</td>\n",
       "      <td>22351.68</td>\n",
       "      <td>1</td>\n",
       "      <td>5</td>\n",
       "      <td>5</td>\n",
       "      <td>155</td>\n",
       "      <td>5</td>\n",
       "      <td>can't lose</td>\n",
       "    </tr>\n",
       "    <tr>\n",
       "      <th>259</th>\n",
       "      <td>668070</td>\n",
       "      <td>MM</td>\n",
       "      <td>267</td>\n",
       "      <td>11</td>\n",
       "      <td>21886.92</td>\n",
       "      <td>1</td>\n",
       "      <td>5</td>\n",
       "      <td>5</td>\n",
       "      <td>155</td>\n",
       "      <td>5</td>\n",
       "      <td>can't lose</td>\n",
       "    </tr>\n",
       "    <tr>\n",
       "      <th>15331</th>\n",
       "      <td>4418268</td>\n",
       "      <td>SA</td>\n",
       "      <td>302</td>\n",
       "      <td>10</td>\n",
       "      <td>14295.54</td>\n",
       "      <td>1</td>\n",
       "      <td>5</td>\n",
       "      <td>5</td>\n",
       "      <td>155</td>\n",
       "      <td>5</td>\n",
       "      <td>can't lose</td>\n",
       "    </tr>\n",
       "  </tbody>\n",
       "</table>\n",
       "</div>"
      ],
      "text/plain": [
       "            id country  recency  frequency   monetary  r  f  m rfm_score  fm  \\\n",
       "13028  4096386      JP      260        105  220267.86  1  5  5       155   5   \n",
       "3502   2443284      IN      246         10  102208.02  1  5  5       155   5   \n",
       "14174  4262646      IN      316         10   91909.44  1  5  5       155   5   \n",
       "2435   1803672      IN      267         12   70506.96  1  5  5       155   5   \n",
       "13254  4132968      VN      253         26   42535.14  1  5  5       155   5   \n",
       "11222  3815274      IN      267         11   37968.72  1  5  5       155   5   \n",
       "1458   1031454      PH      267         23   31833.30  1  5  5       155   5   \n",
       "5437   2809158      IN      274         12   27150.12  1  5  5       155   5   \n",
       "14644  4326906      IN      337         11   22351.68  1  5  5       155   5   \n",
       "259     668070      MM      267         11   21886.92  1  5  5       155   5   \n",
       "15331  4418268      SA      302         10   14295.54  1  5  5       155   5   \n",
       "\n",
       "          segment  \n",
       "13028  can't lose  \n",
       "3502   can't lose  \n",
       "14174  can't lose  \n",
       "2435   can't lose  \n",
       "13254  can't lose  \n",
       "11222  can't lose  \n",
       "1458   can't lose  \n",
       "5437   can't lose  \n",
       "14644  can't lose  \n",
       "259    can't lose  \n",
       "15331  can't lose  "
      ]
     },
     "execution_count": 57,
     "metadata": {},
     "output_type": "execute_result"
    }
   ],
   "source": [
    "# Print some segments\n",
    "\n",
    "# Can't Lose\n",
    "rfm[rfm['segment']==\"can't lose\"].sort_values(by='monetary', ascending=False)"
   ]
  },
  {
   "cell_type": "code",
   "execution_count": 58,
   "metadata": {
    "colab": {
     "base_uri": "https://localhost:8080/",
     "height": 359
    },
    "id": "eXm8JQyAdxL0",
    "outputId": "d9c3aa02-35f8-4b05-c6a0-a31509984c29"
   },
   "outputs": [
    {
     "data": {
      "text/html": [
       "<div>\n",
       "<style scoped>\n",
       "    .dataframe tbody tr th:only-of-type {\n",
       "        vertical-align: middle;\n",
       "    }\n",
       "\n",
       "    .dataframe tbody tr th {\n",
       "        vertical-align: top;\n",
       "    }\n",
       "\n",
       "    .dataframe thead th {\n",
       "        text-align: right;\n",
       "    }\n",
       "</style>\n",
       "<table border=\"1\" class=\"dataframe\">\n",
       "  <thead>\n",
       "    <tr style=\"text-align: right;\">\n",
       "      <th></th>\n",
       "      <th>id</th>\n",
       "      <th>country</th>\n",
       "      <th>recency</th>\n",
       "      <th>frequency</th>\n",
       "      <th>monetary</th>\n",
       "      <th>r</th>\n",
       "      <th>f</th>\n",
       "      <th>m</th>\n",
       "      <th>rfm_score</th>\n",
       "      <th>fm</th>\n",
       "      <th>segment</th>\n",
       "    </tr>\n",
       "  </thead>\n",
       "  <tbody>\n",
       "    <tr>\n",
       "      <th>8245</th>\n",
       "      <td>3242664</td>\n",
       "      <td>TR</td>\n",
       "      <td>64</td>\n",
       "      <td>1</td>\n",
       "      <td>73823.58</td>\n",
       "      <td>3</td>\n",
       "      <td>1</td>\n",
       "      <td>5</td>\n",
       "      <td>315</td>\n",
       "      <td>3</td>\n",
       "      <td>need attention</td>\n",
       "    </tr>\n",
       "    <tr>\n",
       "      <th>13065</th>\n",
       "      <td>4107798</td>\n",
       "      <td>JP</td>\n",
       "      <td>120</td>\n",
       "      <td>2</td>\n",
       "      <td>67257.48</td>\n",
       "      <td>3</td>\n",
       "      <td>2</td>\n",
       "      <td>5</td>\n",
       "      <td>325</td>\n",
       "      <td>3</td>\n",
       "      <td>need attention</td>\n",
       "    </tr>\n",
       "    <tr>\n",
       "      <th>9847</th>\n",
       "      <td>3561900</td>\n",
       "      <td>ID</td>\n",
       "      <td>120</td>\n",
       "      <td>1</td>\n",
       "      <td>59700.00</td>\n",
       "      <td>3</td>\n",
       "      <td>1</td>\n",
       "      <td>5</td>\n",
       "      <td>315</td>\n",
       "      <td>3</td>\n",
       "      <td>need attention</td>\n",
       "    </tr>\n",
       "    <tr>\n",
       "      <th>6626</th>\n",
       "      <td>2921070</td>\n",
       "      <td>ID</td>\n",
       "      <td>71</td>\n",
       "      <td>2</td>\n",
       "      <td>34730.22</td>\n",
       "      <td>3</td>\n",
       "      <td>2</td>\n",
       "      <td>5</td>\n",
       "      <td>325</td>\n",
       "      <td>3</td>\n",
       "      <td>need attention</td>\n",
       "    </tr>\n",
       "    <tr>\n",
       "      <th>10009</th>\n",
       "      <td>3587772</td>\n",
       "      <td>CN</td>\n",
       "      <td>92</td>\n",
       "      <td>1</td>\n",
       "      <td>29961.00</td>\n",
       "      <td>3</td>\n",
       "      <td>1</td>\n",
       "      <td>5</td>\n",
       "      <td>315</td>\n",
       "      <td>3</td>\n",
       "      <td>need attention</td>\n",
       "    </tr>\n",
       "    <tr>\n",
       "      <th>3087</th>\n",
       "      <td>2131194</td>\n",
       "      <td>JP</td>\n",
       "      <td>57</td>\n",
       "      <td>1</td>\n",
       "      <td>28543.74</td>\n",
       "      <td>3</td>\n",
       "      <td>1</td>\n",
       "      <td>5</td>\n",
       "      <td>315</td>\n",
       "      <td>3</td>\n",
       "      <td>need attention</td>\n",
       "    </tr>\n",
       "    <tr>\n",
       "      <th>13463</th>\n",
       "      <td>4160490</td>\n",
       "      <td>JP</td>\n",
       "      <td>99</td>\n",
       "      <td>1</td>\n",
       "      <td>24842.22</td>\n",
       "      <td>3</td>\n",
       "      <td>1</td>\n",
       "      <td>5</td>\n",
       "      <td>315</td>\n",
       "      <td>3</td>\n",
       "      <td>need attention</td>\n",
       "    </tr>\n",
       "    <tr>\n",
       "      <th>1251</th>\n",
       "      <td>993414</td>\n",
       "      <td>KR</td>\n",
       "      <td>71</td>\n",
       "      <td>2</td>\n",
       "      <td>22018.32</td>\n",
       "      <td>3</td>\n",
       "      <td>2</td>\n",
       "      <td>5</td>\n",
       "      <td>325</td>\n",
       "      <td>3</td>\n",
       "      <td>need attention</td>\n",
       "    </tr>\n",
       "    <tr>\n",
       "      <th>3936</th>\n",
       "      <td>2544588</td>\n",
       "      <td>BD</td>\n",
       "      <td>71</td>\n",
       "      <td>2</td>\n",
       "      <td>19043.82</td>\n",
       "      <td>3</td>\n",
       "      <td>2</td>\n",
       "      <td>5</td>\n",
       "      <td>325</td>\n",
       "      <td>3</td>\n",
       "      <td>need attention</td>\n",
       "    </tr>\n",
       "    <tr>\n",
       "      <th>3616</th>\n",
       "      <td>2468010</td>\n",
       "      <td>TH</td>\n",
       "      <td>85</td>\n",
       "      <td>2</td>\n",
       "      <td>18599.58</td>\n",
       "      <td>3</td>\n",
       "      <td>2</td>\n",
       "      <td>5</td>\n",
       "      <td>325</td>\n",
       "      <td>3</td>\n",
       "      <td>need attention</td>\n",
       "    </tr>\n",
       "  </tbody>\n",
       "</table>\n",
       "</div>"
      ],
      "text/plain": [
       "            id country  recency  frequency  monetary  r  f  m rfm_score  fm  \\\n",
       "8245   3242664      TR       64          1  73823.58  3  1  5       315   3   \n",
       "13065  4107798      JP      120          2  67257.48  3  2  5       325   3   \n",
       "9847   3561900      ID      120          1  59700.00  3  1  5       315   3   \n",
       "6626   2921070      ID       71          2  34730.22  3  2  5       325   3   \n",
       "10009  3587772      CN       92          1  29961.00  3  1  5       315   3   \n",
       "3087   2131194      JP       57          1  28543.74  3  1  5       315   3   \n",
       "13463  4160490      JP       99          1  24842.22  3  1  5       315   3   \n",
       "1251    993414      KR       71          2  22018.32  3  2  5       325   3   \n",
       "3936   2544588      BD       71          2  19043.82  3  2  5       325   3   \n",
       "3616   2468010      TH       85          2  18599.58  3  2  5       325   3   \n",
       "\n",
       "              segment  \n",
       "8245   need attention  \n",
       "13065  need attention  \n",
       "9847   need attention  \n",
       "6626   need attention  \n",
       "10009  need attention  \n",
       "3087   need attention  \n",
       "13463  need attention  \n",
       "1251   need attention  \n",
       "3936   need attention  \n",
       "3616   need attention  "
      ]
     },
     "execution_count": 58,
     "metadata": {},
     "output_type": "execute_result"
    }
   ],
   "source": [
    "# Need Attention\n",
    "rfm[rfm['segment']==\"need attention\"].sort_values(by='monetary', ascending=False).head(10)"
   ]
  },
  {
   "cell_type": "code",
   "execution_count": 59,
   "metadata": {
    "colab": {
     "base_uri": "https://localhost:8080/",
     "height": 359
    },
    "id": "VOu3i5-4dxL0",
    "outputId": "bd4cb467-7287-40d5-e666-4d54cb3f38bd"
   },
   "outputs": [
    {
     "data": {
      "text/html": [
       "<div>\n",
       "<style scoped>\n",
       "    .dataframe tbody tr th:only-of-type {\n",
       "        vertical-align: middle;\n",
       "    }\n",
       "\n",
       "    .dataframe tbody tr th {\n",
       "        vertical-align: top;\n",
       "    }\n",
       "\n",
       "    .dataframe thead th {\n",
       "        text-align: right;\n",
       "    }\n",
       "</style>\n",
       "<table border=\"1\" class=\"dataframe\">\n",
       "  <thead>\n",
       "    <tr style=\"text-align: right;\">\n",
       "      <th></th>\n",
       "      <th>id</th>\n",
       "      <th>country</th>\n",
       "      <th>recency</th>\n",
       "      <th>frequency</th>\n",
       "      <th>monetary</th>\n",
       "      <th>r</th>\n",
       "      <th>f</th>\n",
       "      <th>m</th>\n",
       "      <th>rfm_score</th>\n",
       "      <th>fm</th>\n",
       "      <th>segment</th>\n",
       "    </tr>\n",
       "  </thead>\n",
       "  <tbody>\n",
       "    <tr>\n",
       "      <th>15420</th>\n",
       "      <td>4422780</td>\n",
       "      <td>TR</td>\n",
       "      <td>92</td>\n",
       "      <td>13</td>\n",
       "      <td>2315341.14</td>\n",
       "      <td>3</td>\n",
       "      <td>5</td>\n",
       "      <td>5</td>\n",
       "      <td>355</td>\n",
       "      <td>5</td>\n",
       "      <td>loyal customers</td>\n",
       "    </tr>\n",
       "    <tr>\n",
       "      <th>2882</th>\n",
       "      <td>2030526</td>\n",
       "      <td>JP</td>\n",
       "      <td>22</td>\n",
       "      <td>50</td>\n",
       "      <td>1519339.86</td>\n",
       "      <td>4</td>\n",
       "      <td>5</td>\n",
       "      <td>5</td>\n",
       "      <td>455</td>\n",
       "      <td>5</td>\n",
       "      <td>loyal customers</td>\n",
       "    </tr>\n",
       "    <tr>\n",
       "      <th>3220</th>\n",
       "      <td>2182446</td>\n",
       "      <td>JP</td>\n",
       "      <td>29</td>\n",
       "      <td>18</td>\n",
       "      <td>1492057.68</td>\n",
       "      <td>4</td>\n",
       "      <td>5</td>\n",
       "      <td>5</td>\n",
       "      <td>455</td>\n",
       "      <td>5</td>\n",
       "      <td>loyal customers</td>\n",
       "    </tr>\n",
       "    <tr>\n",
       "      <th>12660</th>\n",
       "      <td>4041366</td>\n",
       "      <td>PK</td>\n",
       "      <td>50</td>\n",
       "      <td>9</td>\n",
       "      <td>736626.96</td>\n",
       "      <td>4</td>\n",
       "      <td>4</td>\n",
       "      <td>5</td>\n",
       "      <td>445</td>\n",
       "      <td>4</td>\n",
       "      <td>loyal customers</td>\n",
       "    </tr>\n",
       "    <tr>\n",
       "      <th>5612</th>\n",
       "      <td>2853774</td>\n",
       "      <td>VN</td>\n",
       "      <td>8</td>\n",
       "      <td>6</td>\n",
       "      <td>712230.00</td>\n",
       "      <td>5</td>\n",
       "      <td>4</td>\n",
       "      <td>5</td>\n",
       "      <td>545</td>\n",
       "      <td>4</td>\n",
       "      <td>loyal customers</td>\n",
       "    </tr>\n",
       "    <tr>\n",
       "      <th>10343</th>\n",
       "      <td>3649728</td>\n",
       "      <td>PH</td>\n",
       "      <td>29</td>\n",
       "      <td>81</td>\n",
       "      <td>579167.52</td>\n",
       "      <td>4</td>\n",
       "      <td>5</td>\n",
       "      <td>5</td>\n",
       "      <td>455</td>\n",
       "      <td>5</td>\n",
       "      <td>loyal customers</td>\n",
       "    </tr>\n",
       "    <tr>\n",
       "      <th>8284</th>\n",
       "      <td>3248568</td>\n",
       "      <td>TR</td>\n",
       "      <td>64</td>\n",
       "      <td>3</td>\n",
       "      <td>573792.72</td>\n",
       "      <td>3</td>\n",
       "      <td>3</td>\n",
       "      <td>5</td>\n",
       "      <td>335</td>\n",
       "      <td>4</td>\n",
       "      <td>loyal customers</td>\n",
       "    </tr>\n",
       "    <tr>\n",
       "      <th>15450</th>\n",
       "      <td>4427148</td>\n",
       "      <td>IN</td>\n",
       "      <td>29</td>\n",
       "      <td>14</td>\n",
       "      <td>502843.32</td>\n",
       "      <td>4</td>\n",
       "      <td>5</td>\n",
       "      <td>5</td>\n",
       "      <td>455</td>\n",
       "      <td>5</td>\n",
       "      <td>loyal customers</td>\n",
       "    </tr>\n",
       "    <tr>\n",
       "      <th>14678</th>\n",
       "      <td>4332210</td>\n",
       "      <td>ID</td>\n",
       "      <td>43</td>\n",
       "      <td>21</td>\n",
       "      <td>474773.40</td>\n",
       "      <td>4</td>\n",
       "      <td>5</td>\n",
       "      <td>5</td>\n",
       "      <td>455</td>\n",
       "      <td>5</td>\n",
       "      <td>loyal customers</td>\n",
       "    </tr>\n",
       "    <tr>\n",
       "      <th>2802</th>\n",
       "      <td>1985592</td>\n",
       "      <td>IQ</td>\n",
       "      <td>78</td>\n",
       "      <td>4</td>\n",
       "      <td>460390.86</td>\n",
       "      <td>3</td>\n",
       "      <td>3</td>\n",
       "      <td>5</td>\n",
       "      <td>335</td>\n",
       "      <td>4</td>\n",
       "      <td>loyal customers</td>\n",
       "    </tr>\n",
       "  </tbody>\n",
       "</table>\n",
       "</div>"
      ],
      "text/plain": [
       "            id country  recency  frequency    monetary  r  f  m rfm_score  fm  \\\n",
       "15420  4422780      TR       92         13  2315341.14  3  5  5       355   5   \n",
       "2882   2030526      JP       22         50  1519339.86  4  5  5       455   5   \n",
       "3220   2182446      JP       29         18  1492057.68  4  5  5       455   5   \n",
       "12660  4041366      PK       50          9   736626.96  4  4  5       445   4   \n",
       "5612   2853774      VN        8          6   712230.00  5  4  5       545   4   \n",
       "10343  3649728      PH       29         81   579167.52  4  5  5       455   5   \n",
       "8284   3248568      TR       64          3   573792.72  3  3  5       335   4   \n",
       "15450  4427148      IN       29         14   502843.32  4  5  5       455   5   \n",
       "14678  4332210      ID       43         21   474773.40  4  5  5       455   5   \n",
       "2802   1985592      IQ       78          4   460390.86  3  3  5       335   4   \n",
       "\n",
       "               segment  \n",
       "15420  loyal customers  \n",
       "2882   loyal customers  \n",
       "3220   loyal customers  \n",
       "12660  loyal customers  \n",
       "5612   loyal customers  \n",
       "10343  loyal customers  \n",
       "8284   loyal customers  \n",
       "15450  loyal customers  \n",
       "14678  loyal customers  \n",
       "2802   loyal customers  "
      ]
     },
     "execution_count": 59,
     "metadata": {},
     "output_type": "execute_result"
    }
   ],
   "source": [
    "# Loyal Customers\n",
    "rfm[rfm['segment']=='loyal customers'].sort_values(by='monetary', ascending=False).head(10)"
   ]
  },
  {
   "cell_type": "code",
   "execution_count": 60,
   "metadata": {
    "colab": {
     "base_uri": "https://localhost:8080/"
    },
    "id": "hV-0pAyTdxL0",
    "outputId": "d8d5f77f-5b5d-4526-defa-9baf257d73b8"
   },
   "outputs": [
    {
     "data": {
      "text/plain": [
       "21629.611149737302"
      ]
     },
     "execution_count": 60,
     "metadata": {},
     "output_type": "execute_result"
    }
   ],
   "source": [
    "rfm['monetary'].mean()"
   ]
  },
  {
   "cell_type": "code",
   "execution_count": 61,
   "metadata": {
    "colab": {
     "base_uri": "https://localhost:8080/",
     "height": 297
    },
    "id": "lmTaBuNrdxL0",
    "outputId": "4309c2ea-6b94-42a9-9100-b5f0adab2a52"
   },
   "outputs": [
    {
     "data": {
      "text/html": [
       "<div>\n",
       "<style scoped>\n",
       "    .dataframe tbody tr th:only-of-type {\n",
       "        vertical-align: middle;\n",
       "    }\n",
       "\n",
       "    .dataframe tbody tr th {\n",
       "        vertical-align: top;\n",
       "    }\n",
       "\n",
       "    .dataframe thead th {\n",
       "        text-align: right;\n",
       "    }\n",
       "</style>\n",
       "<table border=\"1\" class=\"dataframe\">\n",
       "  <thead>\n",
       "    <tr style=\"text-align: right;\">\n",
       "      <th></th>\n",
       "      <th>id</th>\n",
       "      <th>country</th>\n",
       "      <th>recency</th>\n",
       "      <th>frequency</th>\n",
       "      <th>monetary</th>\n",
       "      <th>r</th>\n",
       "      <th>f</th>\n",
       "      <th>m</th>\n",
       "      <th>rfm_score</th>\n",
       "      <th>fm</th>\n",
       "      <th>segment</th>\n",
       "    </tr>\n",
       "  </thead>\n",
       "  <tbody>\n",
       "    <tr>\n",
       "      <th>8245</th>\n",
       "      <td>3242664</td>\n",
       "      <td>TR</td>\n",
       "      <td>64</td>\n",
       "      <td>1</td>\n",
       "      <td>73823.58</td>\n",
       "      <td>3</td>\n",
       "      <td>1</td>\n",
       "      <td>5</td>\n",
       "      <td>315</td>\n",
       "      <td>3</td>\n",
       "      <td>need attention</td>\n",
       "    </tr>\n",
       "    <tr>\n",
       "      <th>13065</th>\n",
       "      <td>4107798</td>\n",
       "      <td>JP</td>\n",
       "      <td>120</td>\n",
       "      <td>2</td>\n",
       "      <td>67257.48</td>\n",
       "      <td>3</td>\n",
       "      <td>2</td>\n",
       "      <td>5</td>\n",
       "      <td>325</td>\n",
       "      <td>3</td>\n",
       "      <td>need attention</td>\n",
       "    </tr>\n",
       "    <tr>\n",
       "      <th>9847</th>\n",
       "      <td>3561900</td>\n",
       "      <td>ID</td>\n",
       "      <td>120</td>\n",
       "      <td>1</td>\n",
       "      <td>59700.00</td>\n",
       "      <td>3</td>\n",
       "      <td>1</td>\n",
       "      <td>5</td>\n",
       "      <td>315</td>\n",
       "      <td>3</td>\n",
       "      <td>need attention</td>\n",
       "    </tr>\n",
       "    <tr>\n",
       "      <th>6626</th>\n",
       "      <td>2921070</td>\n",
       "      <td>ID</td>\n",
       "      <td>71</td>\n",
       "      <td>2</td>\n",
       "      <td>34730.22</td>\n",
       "      <td>3</td>\n",
       "      <td>2</td>\n",
       "      <td>5</td>\n",
       "      <td>325</td>\n",
       "      <td>3</td>\n",
       "      <td>need attention</td>\n",
       "    </tr>\n",
       "    <tr>\n",
       "      <th>10009</th>\n",
       "      <td>3587772</td>\n",
       "      <td>CN</td>\n",
       "      <td>92</td>\n",
       "      <td>1</td>\n",
       "      <td>29961.00</td>\n",
       "      <td>3</td>\n",
       "      <td>1</td>\n",
       "      <td>5</td>\n",
       "      <td>315</td>\n",
       "      <td>3</td>\n",
       "      <td>need attention</td>\n",
       "    </tr>\n",
       "    <tr>\n",
       "      <th>3087</th>\n",
       "      <td>2131194</td>\n",
       "      <td>JP</td>\n",
       "      <td>57</td>\n",
       "      <td>1</td>\n",
       "      <td>28543.74</td>\n",
       "      <td>3</td>\n",
       "      <td>1</td>\n",
       "      <td>5</td>\n",
       "      <td>315</td>\n",
       "      <td>3</td>\n",
       "      <td>need attention</td>\n",
       "    </tr>\n",
       "    <tr>\n",
       "      <th>13463</th>\n",
       "      <td>4160490</td>\n",
       "      <td>JP</td>\n",
       "      <td>99</td>\n",
       "      <td>1</td>\n",
       "      <td>24842.22</td>\n",
       "      <td>3</td>\n",
       "      <td>1</td>\n",
       "      <td>5</td>\n",
       "      <td>315</td>\n",
       "      <td>3</td>\n",
       "      <td>need attention</td>\n",
       "    </tr>\n",
       "    <tr>\n",
       "      <th>1251</th>\n",
       "      <td>993414</td>\n",
       "      <td>KR</td>\n",
       "      <td>71</td>\n",
       "      <td>2</td>\n",
       "      <td>22018.32</td>\n",
       "      <td>3</td>\n",
       "      <td>2</td>\n",
       "      <td>5</td>\n",
       "      <td>325</td>\n",
       "      <td>3</td>\n",
       "      <td>need attention</td>\n",
       "    </tr>\n",
       "  </tbody>\n",
       "</table>\n",
       "</div>"
      ],
      "text/plain": [
       "            id country  recency  frequency  monetary  r  f  m rfm_score  fm  \\\n",
       "8245   3242664      TR       64          1  73823.58  3  1  5       315   3   \n",
       "13065  4107798      JP      120          2  67257.48  3  2  5       325   3   \n",
       "9847   3561900      ID      120          1  59700.00  3  1  5       315   3   \n",
       "6626   2921070      ID       71          2  34730.22  3  2  5       325   3   \n",
       "10009  3587772      CN       92          1  29961.00  3  1  5       315   3   \n",
       "3087   2131194      JP       57          1  28543.74  3  1  5       315   3   \n",
       "13463  4160490      JP       99          1  24842.22  3  1  5       315   3   \n",
       "1251    993414      KR       71          2  22018.32  3  2  5       325   3   \n",
       "\n",
       "              segment  \n",
       "8245   need attention  \n",
       "13065  need attention  \n",
       "9847   need attention  \n",
       "6626   need attention  \n",
       "10009  need attention  \n",
       "3087   need attention  \n",
       "13463  need attention  \n",
       "1251   need attention  "
      ]
     },
     "execution_count": 61,
     "metadata": {},
     "output_type": "execute_result"
    }
   ],
   "source": [
    "# Customers with monetary over the average that need attention\n",
    "\n",
    "rfm[(rfm['monetary'] > rfm['monetary'].mean()) & (rfm['segment'] == 'need attention')]\\\n",
    "    .sort_values(by='monetary', ascending=False)"
   ]
  },
  {
   "cell_type": "code",
   "execution_count": 62,
   "metadata": {
    "colab": {
     "base_uri": "https://localhost:8080/",
     "height": 387
    },
    "id": "rGSxrYZ2dxL0",
    "outputId": "63580569-9d4b-49f0-80cf-33415adb4080"
   },
   "outputs": [
    {
     "name": "stderr",
     "output_type": "stream",
     "text": [
      "D:\\Anaconda\\lib\\site-packages\\matplotlib\\collections.py:982: RuntimeWarning: invalid value encountered in sqrt\n",
      "  scale = np.sqrt(self._sizes) * dpi / 72.0 * self._factor\n"
     ]
    },
    {
     "data": {
      "image/png": "[encoded data removed]",
      "text/plain": [
       "<Figure size 1440x360 with 1 Axes>"
      ]
     },
     "metadata": {},
     "output_type": "display_data"
    }
   ],
   "source": [
    "# Scatterplot to explore the distribution of customers\n",
    "# Using 'monetary' as the size of the points, we see that \n",
    "# the majority of customers who spend the most also purchase more frequently\n",
    "\n",
    "plt.style.use('ggplot')\n",
    "rfm.plot.scatter(x='recency',\n",
    "                 y='frequency',\n",
    "                 s=rfm['monetary']*5e-5,\n",
    "                 figsize=(20,5),\n",
    "                 c='dodgerblue')\n",
    "\n",
    "plt.gca().set(xlabel='recency',\n",
    "              ylabel='frequency',\n",
    "              title='Customer distribution');"
   ]
  },
  {
   "cell_type": "code",
   "execution_count": 65,
   "metadata": {
    "id": "KmxTpRsMvmqD"
   },
   "outputs": [],
   "source": [
    "# Export the dataframe to a CSV file for processing in PowerBI\n",
    "# (We added the parameter float_format='%.2f' for setting numbers to two decimals)\n",
    "\n",
    "rfm.to_csv('RFM_Asia.csv',\n",
    "           encoding='utf-8',\n",
    "           index=False,\n",
    "           float_format='%.2f')"
   ]
  }
 ],
 "metadata": {
  "colab": {
   "collapsed_sections": [],
   "include_colab_link": true,
   "name": "customer_segmentation_asia.ipynb",
   "provenance": []
  },
  "kernelspec": {
   "display_name": "Python 3 (ipykernel)",
   "language": "python",
   "name": "python3"
  },
  "language_info": {
   "codemirror_mode": {
    "name": "ipython",
    "version": 3
   },
   "file_extension": ".py",
   "mimetype": "text/x-python",
   "name": "python",
   "nbconvert_exporter": "python",
   "pygments_lexer": "ipython3",
   "version": "3.9.12"
  }
 },
 "nbformat": 4,
 "nbformat_minor": 1
}
